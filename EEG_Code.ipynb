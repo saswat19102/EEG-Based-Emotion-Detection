{
 "cells": [
  {
   "cell_type": "code",
   "execution_count": 2,
   "metadata": {
    "_cell_guid": "b1076dfc-b9ad-4769-8c92-a6c4dae69d19",
    "_uuid": "8f2839f25d086af736a60e9eeb907d3b93b6e0e5",
    "execution": {
     "iopub.execute_input": "2021-10-04T09:36:52.942764Z",
     "iopub.status.busy": "2021-10-04T09:36:52.942496Z",
     "iopub.status.idle": "2021-10-04T09:36:57.301187Z",
     "shell.execute_reply": "2021-10-04T09:36:57.300469Z",
     "shell.execute_reply.started": "2021-10-04T09:36:52.942734Z"
    }
   },
   "outputs": [
    {
     "name": "stderr",
     "output_type": "stream",
     "text": [
      "2021-10-04 09:36:53.425900: I tensorflow/stream_executor/platform/default/dso_loader.cc:49] Successfully opened dynamic library libcudart.so.11.0\n"
     ]
    }
   ],
   "source": [
    "import numpy as np # linear algebra\n",
    "import pandas as pd # data processing, CSV file I/O (e.g. pd.read_csv)\n",
    "import os\n",
    "import matplotlib.pyplot as plt\n",
    "from tensorflow import keras as keras"
   ]
  },
  {
   "cell_type": "code",
   "execution_count": 3,
   "metadata": {
    "execution": {
     "iopub.execute_input": "2021-10-04T09:36:57.304699Z",
     "iopub.status.busy": "2021-10-04T09:36:57.304497Z",
     "iopub.status.idle": "2021-10-04T09:36:57.310560Z",
     "shell.execute_reply": "2021-10-04T09:36:57.309788Z",
     "shell.execute_reply.started": "2021-10-04T09:36:57.304675Z"
    }
   },
   "outputs": [],
   "source": [
    "from numpy import asarray\n",
    "from numpy import loadtxt"
   ]
  },
  {
   "cell_type": "code",
   "execution_count": 4,
   "metadata": {
    "execution": {
     "iopub.execute_input": "2021-10-04T09:36:57.313179Z",
     "iopub.status.busy": "2021-10-04T09:36:57.312848Z",
     "iopub.status.idle": "2021-10-04T09:38:18.025826Z",
     "shell.execute_reply": "2021-10-04T09:38:18.025085Z",
     "shell.execute_reply.started": "2021-10-04T09:36:57.313146Z"
    }
   },
   "outputs": [],
   "source": [
    "alphadata=loadtxt('../input/eegdatachannel/alphadata.csv', delimiter=',')\n",
    "betadata=loadtxt('../input/eegdatachannel/betadata.csv', delimiter=',')\n",
    "thetadata=loadtxt('../input/eegdatachannel/thetadata.csv', delimiter=',')\n",
    "gammadata=loadtxt('../input/eegdatachannel/gammadata.csv', delimiter=',')"
   ]
  },
  {
   "cell_type": "code",
   "execution_count": 5,
   "metadata": {
    "execution": {
     "iopub.execute_input": "2021-10-04T09:38:18.027956Z",
     "iopub.status.busy": "2021-10-04T09:38:18.027677Z",
     "iopub.status.idle": "2021-10-04T09:38:18.034344Z",
     "shell.execute_reply": "2021-10-04T09:38:18.033430Z",
     "shell.execute_reply.started": "2021-10-04T09:38:18.027921Z"
    }
   },
   "outputs": [],
   "source": [
    "alpha=alphadata.reshape(17920,32,32)\n",
    "beta=betadata.reshape(17920,32,32)\n",
    "theta=thetadata.reshape(17920,32,32)\n",
    "gamma=gammadata.reshape(17920,32,32)"
   ]
  },
  {
   "cell_type": "code",
   "execution_count": 6,
   "metadata": {
    "execution": {
     "iopub.execute_input": "2021-10-04T09:38:18.035952Z",
     "iopub.status.busy": "2021-10-04T09:38:18.035654Z",
     "iopub.status.idle": "2021-10-04T09:38:18.596841Z",
     "shell.execute_reply": "2021-10-04T09:38:18.596151Z",
     "shell.execute_reply.started": "2021-10-04T09:38:18.035918Z"
    }
   },
   "outputs": [],
   "source": [
    "l=[]\n",
    "for i in range(17920):\n",
    "    f=np.stack((alpha[i],beta[i],theta[i],gamma[i]))\n",
    "    l.append(f)\n",
    "    "
   ]
  },
  {
   "cell_type": "code",
   "execution_count": 7,
   "metadata": {
    "execution": {
     "iopub.execute_input": "2021-10-04T09:38:18.598452Z",
     "iopub.status.busy": "2021-10-04T09:38:18.598199Z",
     "iopub.status.idle": "2021-10-04T09:38:18.782300Z",
     "shell.execute_reply": "2021-10-04T09:38:18.781574Z",
     "shell.execute_reply.started": "2021-10-04T09:38:18.598419Z"
    }
   },
   "outputs": [],
   "source": [
    "l_F=np.array(l)"
   ]
  },
  {
   "cell_type": "code",
   "execution_count": 8,
   "metadata": {
    "execution": {
     "iopub.execute_input": "2021-10-04T09:38:18.784098Z",
     "iopub.status.busy": "2021-10-04T09:38:18.783431Z",
     "iopub.status.idle": "2021-10-04T09:38:18.792872Z",
     "shell.execute_reply": "2021-10-04T09:38:18.792210Z",
     "shell.execute_reply.started": "2021-10-04T09:38:18.784059Z"
    }
   },
   "outputs": [
    {
     "data": {
      "text/plain": [
       "(17920, 4, 32, 32)"
      ]
     },
     "execution_count": 8,
     "metadata": {},
     "output_type": "execute_result"
    }
   ],
   "source": [
    "l_F.shape"
   ]
  },
  {
   "cell_type": "code",
   "execution_count": 9,
   "metadata": {
    "execution": {
     "iopub.execute_input": "2021-10-04T09:38:18.794223Z",
     "iopub.status.busy": "2021-10-04T09:38:18.793965Z",
     "iopub.status.idle": "2021-10-04T09:38:18.800850Z",
     "shell.execute_reply": "2021-10-04T09:38:18.800186Z",
     "shell.execute_reply.started": "2021-10-04T09:38:18.794182Z"
    }
   },
   "outputs": [],
   "source": [
    "inputdata1=l_F.reshape(17920,32,32,4)"
   ]
  },
  {
   "cell_type": "code",
   "execution_count": 10,
   "metadata": {
    "execution": {
     "iopub.execute_input": "2021-10-04T09:38:18.802453Z",
     "iopub.status.busy": "2021-10-04T09:38:18.801944Z",
     "iopub.status.idle": "2021-10-04T09:38:18.809648Z",
     "shell.execute_reply": "2021-10-04T09:38:18.808964Z",
     "shell.execute_reply.started": "2021-10-04T09:38:18.802418Z"
    }
   },
   "outputs": [],
   "source": [
    "from tensorflow import keras\n",
    "import pandas\n",
    "import tensorflow as tf\n",
    "from tensorflow.keras import regularizers\n",
    "from tensorflow.keras.models import Sequential\n",
    "from tensorflow.keras import layers\n",
    "from tensorflow.keras.layers import Conv2D\n",
    "from tensorflow.keras.layers import MaxPooling2D\n",
    "from tensorflow.keras.layers import Flatten\n",
    "from tensorflow.keras.layers import Dropout,Dense,ActivityRegularization\n",
    "from tensorflow.keras import backend as K"
   ]
  },
  {
   "cell_type": "code",
   "execution_count": 11,
   "metadata": {
    "execution": {
     "iopub.execute_input": "2021-10-04T09:38:18.814455Z",
     "iopub.status.busy": "2021-10-04T09:38:18.814261Z",
     "iopub.status.idle": "2021-10-04T09:38:18.837443Z",
     "shell.execute_reply": "2021-10-04T09:38:18.836863Z",
     "shell.execute_reply.started": "2021-10-04T09:38:18.814433Z"
    }
   },
   "outputs": [],
   "source": [
    "labels= pd.read_csv('../input/labels-egg/labelsdeappcc.csv')"
   ]
  },
  {
   "cell_type": "code",
   "execution_count": 12,
   "metadata": {
    "execution": {
     "iopub.execute_input": "2021-10-04T09:38:18.838684Z",
     "iopub.status.busy": "2021-10-04T09:38:18.838384Z",
     "iopub.status.idle": "2021-10-04T09:38:18.848348Z",
     "shell.execute_reply": "2021-10-04T09:38:18.847640Z",
     "shell.execute_reply.started": "2021-10-04T09:38:18.838651Z"
    }
   },
   "outputs": [],
   "source": [
    "y=np.array(labels['0'])"
   ]
  },
  {
   "cell_type": "code",
   "execution_count": 13,
   "metadata": {
    "execution": {
     "iopub.execute_input": "2021-10-04T09:38:18.850331Z",
     "iopub.status.busy": "2021-10-04T09:38:18.849568Z",
     "iopub.status.idle": "2021-10-04T09:38:18.857920Z",
     "shell.execute_reply": "2021-10-04T09:38:18.857100Z",
     "shell.execute_reply.started": "2021-10-04T09:38:18.850295Z"
    }
   },
   "outputs": [
    {
     "data": {
      "text/plain": [
       "(17920,)"
      ]
     },
     "execution_count": 13,
     "metadata": {},
     "output_type": "execute_result"
    }
   ],
   "source": [
    "y.shape"
   ]
  },
  {
   "cell_type": "code",
   "execution_count": 14,
   "metadata": {
    "execution": {
     "iopub.execute_input": "2021-10-04T09:38:18.859648Z",
     "iopub.status.busy": "2021-10-04T09:38:18.859233Z",
     "iopub.status.idle": "2021-10-04T09:38:19.611104Z",
     "shell.execute_reply": "2021-10-04T09:38:19.610208Z",
     "shell.execute_reply.started": "2021-10-04T09:38:18.859613Z"
    }
   },
   "outputs": [],
   "source": [
    "import numpy as np\n",
    "from sklearn.model_selection import train_test_split\n",
    "X_train, X_test, y_train, y_test = train_test_split(inputdata1, y, test_size=0.2, random_state=6,shuffle=True)"
   ]
  },
  {
   "cell_type": "code",
   "execution_count": 15,
   "metadata": {
    "execution": {
     "iopub.execute_input": "2021-10-04T09:38:19.612779Z",
     "iopub.status.busy": "2021-10-04T09:38:19.612431Z",
     "iopub.status.idle": "2021-10-04T09:38:19.618855Z",
     "shell.execute_reply": "2021-10-04T09:38:19.618040Z",
     "shell.execute_reply.started": "2021-10-04T09:38:19.612742Z"
    }
   },
   "outputs": [
    {
     "data": {
      "text/plain": [
       "(14336, 32, 32, 4)"
      ]
     },
     "execution_count": 15,
     "metadata": {},
     "output_type": "execute_result"
    }
   ],
   "source": [
    "X_train.shape"
   ]
  },
  {
   "cell_type": "code",
   "execution_count": 16,
   "metadata": {
    "execution": {
     "iopub.execute_input": "2021-10-04T09:38:19.620751Z",
     "iopub.status.busy": "2021-10-04T09:38:19.620189Z",
     "iopub.status.idle": "2021-10-04T09:38:19.628683Z",
     "shell.execute_reply": "2021-10-04T09:38:19.627981Z",
     "shell.execute_reply.started": "2021-10-04T09:38:19.620714Z"
    }
   },
   "outputs": [
    {
     "data": {
      "text/plain": [
       "(3584, 32, 32, 4)"
      ]
     },
     "execution_count": 16,
     "metadata": {},
     "output_type": "execute_result"
    }
   ],
   "source": [
    "X_test.shape"
   ]
  },
  {
   "cell_type": "code",
   "execution_count": 17,
   "metadata": {
    "execution": {
     "iopub.execute_input": "2021-10-04T09:38:19.630606Z",
     "iopub.status.busy": "2021-10-04T09:38:19.629982Z",
     "iopub.status.idle": "2021-10-04T09:38:21.785865Z",
     "shell.execute_reply": "2021-10-04T09:38:21.785176Z",
     "shell.execute_reply.started": "2021-10-04T09:38:19.630571Z"
    }
   },
   "outputs": [
    {
     "name": "stderr",
     "output_type": "stream",
     "text": [
      "2021-10-04 09:38:19.649264: I tensorflow/compiler/jit/xla_cpu_device.cc:41] Not creating XLA devices, tf_xla_enable_xla_devices not set\n",
      "2021-10-04 09:38:19.652563: I tensorflow/stream_executor/platform/default/dso_loader.cc:49] Successfully opened dynamic library libcuda.so.1\n",
      "2021-10-04 09:38:19.702028: I tensorflow/stream_executor/cuda/cuda_gpu_executor.cc:941] successful NUMA node read from SysFS had negative value (-1), but there must be at least one NUMA node, so returning NUMA node zero\n",
      "2021-10-04 09:38:19.702655: I tensorflow/core/common_runtime/gpu/gpu_device.cc:1720] Found device 0 with properties: \n",
      "pciBusID: 0000:00:04.0 name: Tesla P100-PCIE-16GB computeCapability: 6.0\n",
      "coreClock: 1.3285GHz coreCount: 56 deviceMemorySize: 15.90GiB deviceMemoryBandwidth: 681.88GiB/s\n",
      "2021-10-04 09:38:19.702756: I tensorflow/stream_executor/platform/default/dso_loader.cc:49] Successfully opened dynamic library libcudart.so.11.0\n",
      "2021-10-04 09:38:19.728064: I tensorflow/stream_executor/platform/default/dso_loader.cc:49] Successfully opened dynamic library libcublas.so.11\n",
      "2021-10-04 09:38:19.728179: I tensorflow/stream_executor/platform/default/dso_loader.cc:49] Successfully opened dynamic library libcublasLt.so.11\n",
      "2021-10-04 09:38:19.744915: I tensorflow/stream_executor/platform/default/dso_loader.cc:49] Successfully opened dynamic library libcufft.so.10\n",
      "2021-10-04 09:38:19.753225: I tensorflow/stream_executor/platform/default/dso_loader.cc:49] Successfully opened dynamic library libcurand.so.10\n",
      "2021-10-04 09:38:19.776872: I tensorflow/stream_executor/platform/default/dso_loader.cc:49] Successfully opened dynamic library libcusolver.so.10\n",
      "2021-10-04 09:38:19.786181: I tensorflow/stream_executor/platform/default/dso_loader.cc:49] Successfully opened dynamic library libcusparse.so.11\n",
      "2021-10-04 09:38:19.788881: I tensorflow/stream_executor/platform/default/dso_loader.cc:49] Successfully opened dynamic library libcudnn.so.8\n",
      "2021-10-04 09:38:19.789045: I tensorflow/stream_executor/cuda/cuda_gpu_executor.cc:941] successful NUMA node read from SysFS had negative value (-1), but there must be at least one NUMA node, so returning NUMA node zero\n",
      "2021-10-04 09:38:19.789671: I tensorflow/stream_executor/cuda/cuda_gpu_executor.cc:941] successful NUMA node read from SysFS had negative value (-1), but there must be at least one NUMA node, so returning NUMA node zero\n",
      "2021-10-04 09:38:19.791356: I tensorflow/core/common_runtime/gpu/gpu_device.cc:1862] Adding visible gpu devices: 0\n",
      "2021-10-04 09:38:19.792309: I tensorflow/core/platform/cpu_feature_guard.cc:142] This TensorFlow binary is optimized with oneAPI Deep Neural Network Library (oneDNN) to use the following CPU instructions in performance-critical operations:  AVX2 AVX512F FMA\n",
      "To enable them in other operations, rebuild TensorFlow with the appropriate compiler flags.\n",
      "2021-10-04 09:38:19.792527: I tensorflow/compiler/jit/xla_gpu_device.cc:99] Not creating XLA devices, tf_xla_enable_xla_devices not set\n",
      "2021-10-04 09:38:19.792691: I tensorflow/stream_executor/cuda/cuda_gpu_executor.cc:941] successful NUMA node read from SysFS had negative value (-1), but there must be at least one NUMA node, so returning NUMA node zero\n",
      "2021-10-04 09:38:19.793266: I tensorflow/core/common_runtime/gpu/gpu_device.cc:1720] Found device 0 with properties: \n",
      "pciBusID: 0000:00:04.0 name: Tesla P100-PCIE-16GB computeCapability: 6.0\n",
      "coreClock: 1.3285GHz coreCount: 56 deviceMemorySize: 15.90GiB deviceMemoryBandwidth: 681.88GiB/s\n",
      "2021-10-04 09:38:19.793305: I tensorflow/stream_executor/platform/default/dso_loader.cc:49] Successfully opened dynamic library libcudart.so.11.0\n",
      "2021-10-04 09:38:19.793331: I tensorflow/stream_executor/platform/default/dso_loader.cc:49] Successfully opened dynamic library libcublas.so.11\n",
      "2021-10-04 09:38:19.793358: I tensorflow/stream_executor/platform/default/dso_loader.cc:49] Successfully opened dynamic library libcublasLt.so.11\n",
      "2021-10-04 09:38:19.793384: I tensorflow/stream_executor/platform/default/dso_loader.cc:49] Successfully opened dynamic library libcufft.so.10\n",
      "2021-10-04 09:38:19.793402: I tensorflow/stream_executor/platform/default/dso_loader.cc:49] Successfully opened dynamic library libcurand.so.10\n",
      "2021-10-04 09:38:19.793419: I tensorflow/stream_executor/platform/default/dso_loader.cc:49] Successfully opened dynamic library libcusolver.so.10\n",
      "2021-10-04 09:38:19.793437: I tensorflow/stream_executor/platform/default/dso_loader.cc:49] Successfully opened dynamic library libcusparse.so.11\n",
      "2021-10-04 09:38:19.793455: I tensorflow/stream_executor/platform/default/dso_loader.cc:49] Successfully opened dynamic library libcudnn.so.8\n",
      "2021-10-04 09:38:19.793538: I tensorflow/stream_executor/cuda/cuda_gpu_executor.cc:941] successful NUMA node read from SysFS had negative value (-1), but there must be at least one NUMA node, so returning NUMA node zero\n",
      "2021-10-04 09:38:19.794200: I tensorflow/stream_executor/cuda/cuda_gpu_executor.cc:941] successful NUMA node read from SysFS had negative value (-1), but there must be at least one NUMA node, so returning NUMA node zero\n",
      "2021-10-04 09:38:19.794727: I tensorflow/core/common_runtime/gpu/gpu_device.cc:1862] Adding visible gpu devices: 0\n",
      "2021-10-04 09:38:19.795763: I tensorflow/stream_executor/platform/default/dso_loader.cc:49] Successfully opened dynamic library libcudart.so.11.0\n",
      "2021-10-04 09:38:21.269193: I tensorflow/core/common_runtime/gpu/gpu_device.cc:1261] Device interconnect StreamExecutor with strength 1 edge matrix:\n",
      "2021-10-04 09:38:21.269249: I tensorflow/core/common_runtime/gpu/gpu_device.cc:1267]      0 \n",
      "2021-10-04 09:38:21.269260: I tensorflow/core/common_runtime/gpu/gpu_device.cc:1280] 0:   N \n",
      "2021-10-04 09:38:21.271523: I tensorflow/stream_executor/cuda/cuda_gpu_executor.cc:941] successful NUMA node read from SysFS had negative value (-1), but there must be at least one NUMA node, so returning NUMA node zero\n",
      "2021-10-04 09:38:21.272290: I tensorflow/stream_executor/cuda/cuda_gpu_executor.cc:941] successful NUMA node read from SysFS had negative value (-1), but there must be at least one NUMA node, so returning NUMA node zero\n",
      "2021-10-04 09:38:21.272980: I tensorflow/stream_executor/cuda/cuda_gpu_executor.cc:941] successful NUMA node read from SysFS had negative value (-1), but there must be at least one NUMA node, so returning NUMA node zero\n",
      "2021-10-04 09:38:21.273568: I tensorflow/core/common_runtime/gpu/gpu_device.cc:1406] Created TensorFlow device (/job:localhost/replica:0/task:0/device:GPU:0 with 14957 MB memory) -> physical GPU (device: 0, name: Tesla P100-PCIE-16GB, pci bus id: 0000:00:04.0, compute capability: 6.0)\n"
     ]
    }
   ],
   "source": [
    "num_classes = 1\n",
    "model = Sequential()\n",
    "model.add(Conv2D(64, kernel_size=(2,2),padding='same',activation='relu',input_shape=(32,32,4)))\n",
    "model.add(Dropout(0.25))\n",
    "model.add(Conv2D(256, (2,2),padding='same', activation='relu'))\n",
    "model.add(Dropout(0.25))\n",
    "model.add(MaxPooling2D(pool_size=(2,2),padding='same'))\n",
    "model.add(Flatten())\n",
    "model.add(Dense(num_classes,activation='sigmoid'))\n",
    "\n",
    "opt = keras.optimizers.Adam(learning_rate=0.001)\n",
    "model.compile(loss='binary_crossentropy', optimizer=opt)"
   ]
  },
  {
   "cell_type": "code",
   "execution_count": 18,
   "metadata": {
    "execution": {
     "iopub.execute_input": "2021-10-04T09:38:21.787310Z",
     "iopub.status.busy": "2021-10-04T09:38:21.787054Z",
     "iopub.status.idle": "2021-10-04T09:50:12.172098Z",
     "shell.execute_reply": "2021-10-04T09:50:12.171329Z",
     "shell.execute_reply.started": "2021-10-04T09:38:21.787277Z"
    }
   },
   "outputs": [
    {
     "name": "stderr",
     "output_type": "stream",
     "text": [
      "2021-10-04 09:38:22.104315: I tensorflow/compiler/mlir/mlir_graph_optimization_pass.cc:116] None of the MLIR optimization passes are enabled (registered 2)\n",
      "2021-10-04 09:38:22.115904: I tensorflow/core/platform/profile_utils/cpu_utils.cc:112] CPU Frequency: 2000140000 Hz\n"
     ]
    },
    {
     "name": "stdout",
     "output_type": "stream",
     "text": [
      "Epoch 1/250\n"
     ]
    },
    {
     "name": "stderr",
     "output_type": "stream",
     "text": [
      "2021-10-04 09:38:22.559825: I tensorflow/stream_executor/platform/default/dso_loader.cc:49] Successfully opened dynamic library libcublas.so.11\n",
      "2021-10-04 09:38:23.336851: I tensorflow/stream_executor/platform/default/dso_loader.cc:49] Successfully opened dynamic library libcublasLt.so.11\n",
      "2021-10-04 09:38:23.359266: I tensorflow/stream_executor/platform/default/dso_loader.cc:49] Successfully opened dynamic library libcudnn.so.8\n"
     ]
    },
    {
     "name": "stdout",
     "output_type": "stream",
     "text": [
      "448/448 [==============================] - 9s 6ms/step - loss: 0.7515\n",
      "Epoch 2/250\n",
      "448/448 [==============================] - 3s 7ms/step - loss: 0.6490\n",
      "Epoch 3/250\n",
      "448/448 [==============================] - 3s 6ms/step - loss: 0.6237\n",
      "Epoch 4/250\n",
      "448/448 [==============================] - 3s 6ms/step - loss: 0.6080\n",
      "Epoch 5/250\n",
      "448/448 [==============================] - 3s 6ms/step - loss: 0.5937\n",
      "Epoch 6/250\n",
      "448/448 [==============================] - 3s 6ms/step - loss: 0.5842\n",
      "Epoch 7/250\n",
      "448/448 [==============================] - 3s 6ms/step - loss: 0.5839\n",
      "Epoch 8/250\n",
      "448/448 [==============================] - 3s 6ms/step - loss: 0.5750\n",
      "Epoch 9/250\n",
      "448/448 [==============================] - 3s 6ms/step - loss: 0.5647\n",
      "Epoch 10/250\n",
      "448/448 [==============================] - 3s 6ms/step - loss: 0.5642\n",
      "Epoch 11/250\n",
      "448/448 [==============================] - 3s 6ms/step - loss: 0.5545\n",
      "Epoch 12/250\n",
      "448/448 [==============================] - 3s 6ms/step - loss: 0.5498\n",
      "Epoch 13/250\n",
      "448/448 [==============================] - 3s 6ms/step - loss: 0.5440\n",
      "Epoch 14/250\n",
      "448/448 [==============================] - 3s 7ms/step - loss: 0.5429\n",
      "Epoch 15/250\n",
      "448/448 [==============================] - 3s 6ms/step - loss: 0.5358\n",
      "Epoch 16/250\n",
      "448/448 [==============================] - 3s 6ms/step - loss: 0.5346\n",
      "Epoch 17/250\n",
      "448/448 [==============================] - 3s 6ms/step - loss: 0.5277\n",
      "Epoch 18/250\n",
      "448/448 [==============================] - 3s 6ms/step - loss: 0.5151\n",
      "Epoch 19/250\n",
      "448/448 [==============================] - 3s 6ms/step - loss: 0.5099\n",
      "Epoch 20/250\n",
      "448/448 [==============================] - 3s 6ms/step - loss: 0.4959\n",
      "Epoch 21/250\n",
      "448/448 [==============================] - 3s 6ms/step - loss: 0.4961\n",
      "Epoch 22/250\n",
      "448/448 [==============================] - 3s 6ms/step - loss: 0.4926\n",
      "Epoch 23/250\n",
      "448/448 [==============================] - 3s 6ms/step - loss: 0.4968\n",
      "Epoch 24/250\n",
      "448/448 [==============================] - 3s 6ms/step - loss: 0.4980\n",
      "Epoch 25/250\n",
      "448/448 [==============================] - 3s 6ms/step - loss: 0.4875\n",
      "Epoch 26/250\n",
      "448/448 [==============================] - 3s 6ms/step - loss: 0.4821\n",
      "Epoch 27/250\n",
      "448/448 [==============================] - 3s 6ms/step - loss: 0.4837\n",
      "Epoch 28/250\n",
      "448/448 [==============================] - 3s 6ms/step - loss: 0.4767\n",
      "Epoch 29/250\n",
      "448/448 [==============================] - 3s 6ms/step - loss: 0.4769\n",
      "Epoch 30/250\n",
      "448/448 [==============================] - 3s 6ms/step - loss: 0.4689\n",
      "Epoch 31/250\n",
      "448/448 [==============================] - 3s 6ms/step - loss: 0.4647\n",
      "Epoch 32/250\n",
      "448/448 [==============================] - 3s 6ms/step - loss: 0.4724\n",
      "Epoch 33/250\n",
      "448/448 [==============================] - 3s 6ms/step - loss: 0.4672\n",
      "Epoch 34/250\n",
      "448/448 [==============================] - 3s 6ms/step - loss: 0.4583\n",
      "Epoch 36/250\n",
      "448/448 [==============================] - 3s 6ms/step - loss: 0.4489\n",
      "Epoch 37/250\n",
      "448/448 [==============================] - 3s 6ms/step - loss: 0.4415\n",
      "Epoch 38/250\n",
      "448/448 [==============================] - 3s 6ms/step - loss: 0.4413\n",
      "Epoch 39/250\n",
      "448/448 [==============================] - 3s 6ms/step - loss: 0.4354\n",
      "Epoch 40/250\n",
      "448/448 [==============================] - 3s 6ms/step - loss: 0.4456\n",
      "Epoch 41/250\n",
      "448/448 [==============================] - 3s 6ms/step - loss: 0.4367\n",
      "Epoch 42/250\n",
      "448/448 [==============================] - 3s 6ms/step - loss: 0.4427\n",
      "Epoch 43/250\n",
      "448/448 [==============================] - 3s 6ms/step - loss: 0.4313\n",
      "Epoch 44/250\n",
      "448/448 [==============================] - 3s 6ms/step - loss: 0.4224\n",
      "Epoch 45/250\n",
      "448/448 [==============================] - 3s 6ms/step - loss: 0.4164\n",
      "Epoch 46/250\n",
      "448/448 [==============================] - 3s 6ms/step - loss: 0.4279\n",
      "Epoch 47/250\n",
      "448/448 [==============================] - 3s 6ms/step - loss: 0.4184\n",
      "Epoch 48/250\n",
      "448/448 [==============================] - 3s 6ms/step - loss: 0.4083\n",
      "Epoch 49/250\n",
      "448/448 [==============================] - 3s 6ms/step - loss: 0.4132\n",
      "Epoch 50/250\n",
      "448/448 [==============================] - 3s 7ms/step - loss: 0.4117\n",
      "Epoch 51/250\n",
      "448/448 [==============================] - 3s 6ms/step - loss: 0.4157\n",
      "Epoch 52/250\n",
      "448/448 [==============================] - 3s 6ms/step - loss: 0.4074\n",
      "Epoch 53/250\n",
      "448/448 [==============================] - 3s 6ms/step - loss: 0.4160\n",
      "Epoch 54/250\n",
      "448/448 [==============================] - 3s 6ms/step - loss: 0.3985\n",
      "Epoch 55/250\n",
      "448/448 [==============================] - 3s 6ms/step - loss: 0.4041\n",
      "Epoch 56/250\n",
      "448/448 [==============================] - 3s 6ms/step - loss: 0.3974\n",
      "Epoch 57/250\n",
      "448/448 [==============================] - 3s 6ms/step - loss: 0.3934\n",
      "Epoch 58/250\n",
      "448/448 [==============================] - 3s 6ms/step - loss: 0.4004\n",
      "Epoch 59/250\n",
      "448/448 [==============================] - 3s 6ms/step - loss: 0.4032\n",
      "Epoch 60/250\n",
      "448/448 [==============================] - 3s 6ms/step - loss: 0.3936\n",
      "Epoch 61/250\n",
      "448/448 [==============================] - 3s 6ms/step - loss: 0.3943\n",
      "Epoch 62/250\n",
      "448/448 [==============================] - 3s 6ms/step - loss: 0.3879\n",
      "Epoch 63/250\n",
      "448/448 [==============================] - 3s 6ms/step - loss: 0.3997\n",
      "Epoch 64/250\n",
      "448/448 [==============================] - 3s 6ms/step - loss: 0.3918\n",
      "Epoch 65/250\n",
      "448/448 [==============================] - 3s 6ms/step - loss: 0.3836\n",
      "Epoch 66/250\n",
      "448/448 [==============================] - 3s 6ms/step - loss: 0.3822\n",
      "Epoch 67/250\n",
      "448/448 [==============================] - 3s 6ms/step - loss: 0.3830\n",
      "Epoch 68/250\n",
      "448/448 [==============================] - 3s 6ms/step - loss: 0.3779\n",
      "Epoch 69/250\n",
      "448/448 [==============================] - 3s 6ms/step - loss: 0.3840\n",
      "Epoch 70/250\n",
      "448/448 [==============================] - 3s 6ms/step - loss: 0.3705\n",
      "Epoch 71/250\n",
      "448/448 [==============================] - 3s 6ms/step - loss: 0.3758\n",
      "Epoch 72/250\n",
      "448/448 [==============================] - 3s 6ms/step - loss: 0.3741\n",
      "Epoch 73/250\n",
      "448/448 [==============================] - 3s 6ms/step - loss: 0.3751\n",
      "Epoch 74/250\n",
      "448/448 [==============================] - 3s 7ms/step - loss: 0.3734\n",
      "Epoch 75/250\n",
      "448/448 [==============================] - 3s 6ms/step - loss: 0.3669\n",
      "Epoch 76/250\n",
      "448/448 [==============================] - 3s 6ms/step - loss: 0.3683\n",
      "Epoch 77/250\n",
      "448/448 [==============================] - 3s 6ms/step - loss: 0.3606\n",
      "Epoch 78/250\n",
      "448/448 [==============================] - 3s 6ms/step - loss: 0.3707\n",
      "Epoch 79/250\n",
      "448/448 [==============================] - 3s 6ms/step - loss: 0.3667\n",
      "Epoch 80/250\n",
      "448/448 [==============================] - 3s 6ms/step - loss: 0.3611\n",
      "Epoch 81/250\n",
      "448/448 [==============================] - 3s 6ms/step - loss: 0.3599\n",
      "Epoch 82/250\n",
      "448/448 [==============================] - 3s 6ms/step - loss: 0.3694\n",
      "Epoch 83/250\n",
      "448/448 [==============================] - 3s 6ms/step - loss: 0.3712\n",
      "Epoch 84/250\n",
      "448/448 [==============================] - 3s 6ms/step - loss: 0.3682\n",
      "Epoch 85/250\n",
      "448/448 [==============================] - 3s 6ms/step - loss: 0.3618\n",
      "Epoch 86/250\n",
      "448/448 [==============================] - 3s 6ms/step - loss: 0.3554\n",
      "Epoch 87/250\n",
      "448/448 [==============================] - 3s 6ms/step - loss: 0.3563\n",
      "Epoch 88/250\n",
      "448/448 [==============================] - 3s 6ms/step - loss: 0.3513\n",
      "Epoch 89/250\n",
      "448/448 [==============================] - 3s 6ms/step - loss: 0.3566\n",
      "Epoch 90/250\n",
      "448/448 [==============================] - 3s 6ms/step - loss: 0.3545\n",
      "Epoch 91/250\n",
      "448/448 [==============================] - 3s 6ms/step - loss: 0.3439\n",
      "Epoch 92/250\n",
      "448/448 [==============================] - 3s 6ms/step - loss: 0.3548\n",
      "Epoch 93/250\n",
      "448/448 [==============================] - 3s 6ms/step - loss: 0.3433\n",
      "Epoch 94/250\n",
      "448/448 [==============================] - 3s 6ms/step - loss: 0.3535\n",
      "Epoch 95/250\n",
      "448/448 [==============================] - 3s 6ms/step - loss: 0.3394\n",
      "Epoch 96/250\n",
      "448/448 [==============================] - 3s 6ms/step - loss: 0.3461\n",
      "Epoch 97/250\n",
      "448/448 [==============================] - 3s 7ms/step - loss: 0.3463\n",
      "Epoch 98/250\n",
      "448/448 [==============================] - 3s 6ms/step - loss: 0.3386\n",
      "Epoch 99/250\n",
      "448/448 [==============================] - 3s 6ms/step - loss: 0.3319\n",
      "Epoch 100/250\n",
      "448/448 [==============================] - 3s 6ms/step - loss: 0.3416\n",
      "Epoch 101/250\n",
      "448/448 [==============================] - 3s 6ms/step - loss: 0.3285\n",
      "Epoch 102/250\n",
      "448/448 [==============================] - 3s 6ms/step - loss: 0.3366\n",
      "Epoch 103/250\n",
      "448/448 [==============================] - 3s 6ms/step - loss: 0.3377\n",
      "Epoch 104/250\n",
      "448/448 [==============================] - 3s 6ms/step - loss: 0.3439\n",
      "Epoch 105/250\n",
      "448/448 [==============================] - 3s 6ms/step - loss: 0.3416\n",
      "Epoch 106/250\n",
      "448/448 [==============================] - 3s 6ms/step - loss: 0.3370\n",
      "Epoch 107/250\n",
      "448/448 [==============================] - 3s 6ms/step - loss: 0.3371\n",
      "Epoch 108/250\n",
      "448/448 [==============================] - 3s 7ms/step - loss: 0.3308\n",
      "Epoch 109/250\n",
      "448/448 [==============================] - 3s 6ms/step - loss: 0.3279\n",
      "Epoch 110/250\n",
      "448/448 [==============================] - 3s 6ms/step - loss: 0.3243\n",
      "Epoch 111/250\n",
      "448/448 [==============================] - 3s 6ms/step - loss: 0.3322\n",
      "Epoch 112/250\n",
      "448/448 [==============================] - 3s 6ms/step - loss: 0.3346\n",
      "Epoch 113/250\n",
      "448/448 [==============================] - 3s 6ms/step - loss: 0.3422\n",
      "Epoch 114/250\n",
      "448/448 [==============================] - 3s 6ms/step - loss: 0.3327\n",
      "Epoch 115/250\n",
      "448/448 [==============================] - 3s 6ms/step - loss: 0.3288\n",
      "Epoch 116/250\n",
      "448/448 [==============================] - 3s 6ms/step - loss: 0.3298\n",
      "Epoch 117/250\n",
      "448/448 [==============================] - 3s 6ms/step - loss: 0.3230\n",
      "Epoch 118/250\n",
      "448/448 [==============================] - 3s 6ms/step - loss: 0.3217\n",
      "Epoch 119/250\n",
      "448/448 [==============================] - 3s 6ms/step - loss: 0.3108\n",
      "Epoch 120/250\n",
      "448/448 [==============================] - 3s 7ms/step - loss: 0.3201\n",
      "Epoch 121/250\n",
      "448/448 [==============================] - 3s 6ms/step - loss: 0.3369\n",
      "Epoch 122/250\n",
      "448/448 [==============================] - 3s 6ms/step - loss: 0.3279\n",
      "Epoch 123/250\n",
      "448/448 [==============================] - 3s 6ms/step - loss: 0.3263\n",
      "Epoch 124/250\n",
      "448/448 [==============================] - 3s 6ms/step - loss: 0.3214\n",
      "Epoch 125/250\n",
      "448/448 [==============================] - 3s 6ms/step - loss: 0.3144\n",
      "Epoch 126/250\n",
      "448/448 [==============================] - 3s 6ms/step - loss: 0.3130\n",
      "Epoch 127/250\n",
      "448/448 [==============================] - 3s 6ms/step - loss: 0.3245\n",
      "Epoch 128/250\n",
      "448/448 [==============================] - 3s 6ms/step - loss: 0.3142\n",
      "Epoch 129/250\n",
      "448/448 [==============================] - 3s 6ms/step - loss: 0.3154\n",
      "Epoch 130/250\n",
      "448/448 [==============================] - 3s 6ms/step - loss: 0.3240\n",
      "Epoch 131/250\n",
      "448/448 [==============================] - 3s 7ms/step - loss: 0.3200\n",
      "Epoch 132/250\n",
      "448/448 [==============================] - 3s 6ms/step - loss: 0.3114\n",
      "Epoch 133/250\n",
      "448/448 [==============================] - 3s 6ms/step - loss: 0.3243\n",
      "Epoch 134/250\n",
      "448/448 [==============================] - 3s 6ms/step - loss: 0.3150\n",
      "Epoch 135/250\n",
      "448/448 [==============================] - 3s 6ms/step - loss: 0.3061\n",
      "Epoch 136/250\n",
      "448/448 [==============================] - 3s 6ms/step - loss: 0.3097\n",
      "Epoch 137/250\n",
      "448/448 [==============================] - 3s 6ms/step - loss: 0.3124\n",
      "Epoch 138/250\n",
      "448/448 [==============================] - 3s 6ms/step - loss: 0.3097\n",
      "Epoch 139/250\n",
      "448/448 [==============================] - 3s 6ms/step - loss: 0.3131\n",
      "Epoch 140/250\n",
      "448/448 [==============================] - 3s 6ms/step - loss: 0.3092\n",
      "Epoch 141/250\n",
      "448/448 [==============================] - 3s 6ms/step - loss: 0.3073\n",
      "Epoch 142/250\n",
      "448/448 [==============================] - 3s 6ms/step - loss: 0.3029\n",
      "Epoch 143/250\n",
      "448/448 [==============================] - 3s 6ms/step - loss: 0.3029\n",
      "Epoch 144/250\n",
      "448/448 [==============================] - 3s 6ms/step - loss: 0.3129\n",
      "Epoch 145/250\n",
      "448/448 [==============================] - 3s 6ms/step - loss: 0.2982\n",
      "Epoch 146/250\n",
      "448/448 [==============================] - 3s 6ms/step - loss: 0.2992\n",
      "Epoch 147/250\n",
      "448/448 [==============================] - 3s 6ms/step - loss: 0.3030\n",
      "Epoch 148/250\n",
      "448/448 [==============================] - 3s 6ms/step - loss: 0.3028\n",
      "Epoch 149/250\n",
      "448/448 [==============================] - 3s 6ms/step - loss: 0.3080\n",
      "Epoch 150/250\n",
      "448/448 [==============================] - 3s 6ms/step - loss: 0.3079\n",
      "Epoch 151/250\n",
      "448/448 [==============================] - 3s 6ms/step - loss: 0.3022\n",
      "Epoch 152/250\n",
      "448/448 [==============================] - 3s 6ms/step - loss: 0.3047\n",
      "Epoch 153/250\n",
      "448/448 [==============================] - 3s 6ms/step - loss: 0.3017\n",
      "Epoch 154/250\n",
      "448/448 [==============================] - 3s 6ms/step - loss: 0.2945\n",
      "Epoch 155/250\n",
      "448/448 [==============================] - 3s 6ms/step - loss: 0.2998\n",
      "Epoch 156/250\n",
      "448/448 [==============================] - 3s 6ms/step - loss: 0.2978\n",
      "Epoch 157/250\n",
      "448/448 [==============================] - 3s 6ms/step - loss: 0.3053\n",
      "Epoch 158/250\n",
      "448/448 [==============================] - 3s 6ms/step - loss: 0.3010\n",
      "Epoch 159/250\n",
      "448/448 [==============================] - 3s 6ms/step - loss: 0.2946\n",
      "Epoch 160/250\n",
      "448/448 [==============================] - 3s 6ms/step - loss: 0.3043\n",
      "Epoch 161/250\n",
      "448/448 [==============================] - 3s 6ms/step - loss: 0.2865\n",
      "Epoch 162/250\n",
      "448/448 [==============================] - 3s 6ms/step - loss: 0.3046\n",
      "Epoch 163/250\n",
      "448/448 [==============================] - 3s 6ms/step - loss: 0.2950\n",
      "Epoch 164/250\n",
      "448/448 [==============================] - 3s 6ms/step - loss: 0.2883\n",
      "Epoch 165/250\n",
      "448/448 [==============================] - 3s 6ms/step - loss: 0.3058\n",
      "Epoch 166/250\n",
      "448/448 [==============================] - 3s 7ms/step - loss: 0.2938\n",
      "Epoch 167/250\n",
      "448/448 [==============================] - 3s 6ms/step - loss: 0.2977\n",
      "Epoch 168/250\n",
      "448/448 [==============================] - 3s 6ms/step - loss: 0.2954\n",
      "Epoch 169/250\n",
      "448/448 [==============================] - 3s 6ms/step - loss: 0.2923\n",
      "Epoch 170/250\n",
      "448/448 [==============================] - 3s 6ms/step - loss: 0.3035\n",
      "Epoch 171/250\n",
      "448/448 [==============================] - 3s 6ms/step - loss: 0.2922\n",
      "Epoch 172/250\n",
      "448/448 [==============================] - 3s 6ms/step - loss: 0.2926\n",
      "Epoch 173/250\n",
      "448/448 [==============================] - 3s 6ms/step - loss: 0.2960\n",
      "Epoch 174/250\n",
      "448/448 [==============================] - 3s 6ms/step - loss: 0.2936\n",
      "Epoch 175/250\n",
      "448/448 [==============================] - 3s 6ms/step - loss: 0.3057\n",
      "Epoch 176/250\n",
      "448/448 [==============================] - 3s 6ms/step - loss: 0.2899\n",
      "Epoch 177/250\n",
      "448/448 [==============================] - 3s 7ms/step - loss: 0.2948\n",
      "Epoch 178/250\n",
      "448/448 [==============================] - 3s 6ms/step - loss: 0.2948\n",
      "Epoch 179/250\n",
      "448/448 [==============================] - 3s 6ms/step - loss: 0.2990\n",
      "Epoch 180/250\n",
      "448/448 [==============================] - 3s 6ms/step - loss: 0.2968\n",
      "Epoch 181/250\n",
      "448/448 [==============================] - 3s 6ms/step - loss: 0.2961\n",
      "Epoch 182/250\n",
      "448/448 [==============================] - 3s 6ms/step - loss: 0.2932\n",
      "Epoch 183/250\n",
      "448/448 [==============================] - 3s 6ms/step - loss: 0.2933\n",
      "Epoch 184/250\n",
      "448/448 [==============================] - 3s 6ms/step - loss: 0.2921\n",
      "Epoch 185/250\n",
      "448/448 [==============================] - 3s 6ms/step - loss: 0.2921\n",
      "Epoch 186/250\n",
      "448/448 [==============================] - 3s 6ms/step - loss: 0.2808\n",
      "Epoch 187/250\n",
      "448/448 [==============================] - 3s 6ms/step - loss: 0.2841\n",
      "Epoch 188/250\n",
      "448/448 [==============================] - 3s 6ms/step - loss: 0.2859\n",
      "Epoch 189/250\n",
      "448/448 [==============================] - 3s 7ms/step - loss: 0.2857\n",
      "Epoch 190/250\n",
      "448/448 [==============================] - 3s 6ms/step - loss: 0.2961\n",
      "Epoch 191/250\n",
      "448/448 [==============================] - 3s 6ms/step - loss: 0.2821\n",
      "Epoch 192/250\n",
      "448/448 [==============================] - 3s 6ms/step - loss: 0.2844\n",
      "Epoch 193/250\n",
      "448/448 [==============================] - 3s 6ms/step - loss: 0.2862\n",
      "Epoch 194/250\n",
      "448/448 [==============================] - 3s 6ms/step - loss: 0.2940\n",
      "Epoch 195/250\n",
      "448/448 [==============================] - 3s 6ms/step - loss: 0.2740\n",
      "Epoch 196/250\n",
      "448/448 [==============================] - 3s 6ms/step - loss: 0.2809\n",
      "Epoch 197/250\n",
      "448/448 [==============================] - 3s 6ms/step - loss: 0.2845\n",
      "Epoch 198/250\n",
      "448/448 [==============================] - 3s 6ms/step - loss: 0.2734\n",
      "Epoch 199/250\n",
      "448/448 [==============================] - 3s 6ms/step - loss: 0.2891\n",
      "Epoch 200/250\n",
      "448/448 [==============================] - 3s 7ms/step - loss: 0.2792\n",
      "Epoch 201/250\n",
      "448/448 [==============================] - 3s 6ms/step - loss: 0.2815\n",
      "Epoch 202/250\n",
      "448/448 [==============================] - 3s 6ms/step - loss: 0.2827\n",
      "Epoch 203/250\n",
      "448/448 [==============================] - 3s 6ms/step - loss: 0.2825\n",
      "Epoch 204/250\n",
      "448/448 [==============================] - 3s 6ms/step - loss: 0.2718\n",
      "Epoch 205/250\n",
      "448/448 [==============================] - 3s 6ms/step - loss: 0.2854\n",
      "Epoch 206/250\n",
      "448/448 [==============================] - 3s 6ms/step - loss: 0.2890\n",
      "Epoch 207/250\n",
      "448/448 [==============================] - 3s 6ms/step - loss: 0.2740\n",
      "Epoch 208/250\n",
      "448/448 [==============================] - 3s 6ms/step - loss: 0.2758\n",
      "Epoch 209/250\n",
      "448/448 [==============================] - 3s 6ms/step - loss: 0.2898\n",
      "Epoch 210/250\n",
      "448/448 [==============================] - 3s 6ms/step - loss: 0.2751\n",
      "Epoch 211/250\n",
      "448/448 [==============================] - 3s 6ms/step - loss: 0.2786\n",
      "Epoch 212/250\n",
      "448/448 [==============================] - 3s 7ms/step - loss: 0.2825\n",
      "Epoch 213/250\n",
      "448/448 [==============================] - 3s 6ms/step - loss: 0.2738\n",
      "Epoch 214/250\n",
      "448/448 [==============================] - 3s 6ms/step - loss: 0.2709\n",
      "Epoch 215/250\n",
      "448/448 [==============================] - 3s 6ms/step - loss: 0.2710\n",
      "Epoch 216/250\n",
      "448/448 [==============================] - 3s 6ms/step - loss: 0.2737\n",
      "Epoch 217/250\n",
      "448/448 [==============================] - 3s 6ms/step - loss: 0.2724\n",
      "Epoch 218/250\n",
      "448/448 [==============================] - 3s 6ms/step - loss: 0.2864\n",
      "Epoch 219/250\n",
      "448/448 [==============================] - 3s 6ms/step - loss: 0.2674\n",
      "Epoch 220/250\n",
      "448/448 [==============================] - 3s 6ms/step - loss: 0.2764\n",
      "Epoch 221/250\n",
      "448/448 [==============================] - 3s 6ms/step - loss: 0.2820\n",
      "Epoch 222/250\n",
      "448/448 [==============================] - 3s 6ms/step - loss: 0.2696\n",
      "Epoch 223/250\n",
      "448/448 [==============================] - 3s 7ms/step - loss: 0.2690\n",
      "Epoch 224/250\n",
      "448/448 [==============================] - 3s 6ms/step - loss: 0.2693\n",
      "Epoch 225/250\n",
      "448/448 [==============================] - 3s 6ms/step - loss: 0.2740\n",
      "Epoch 226/250\n",
      "448/448 [==============================] - 3s 6ms/step - loss: 0.2836\n",
      "Epoch 227/250\n",
      "448/448 [==============================] - 3s 6ms/step - loss: 0.2708\n",
      "Epoch 228/250\n",
      "448/448 [==============================] - 3s 6ms/step - loss: 0.2653\n",
      "Epoch 229/250\n",
      "448/448 [==============================] - 3s 6ms/step - loss: 0.2760\n",
      "Epoch 230/250\n",
      "448/448 [==============================] - 3s 6ms/step - loss: 0.2613\n",
      "Epoch 231/250\n",
      "448/448 [==============================] - 3s 6ms/step - loss: 0.2838\n",
      "Epoch 232/250\n",
      "448/448 [==============================] - 3s 6ms/step - loss: 0.2696\n",
      "Epoch 233/250\n",
      "448/448 [==============================] - 3s 6ms/step - loss: 0.2770\n",
      "Epoch 234/250\n",
      "448/448 [==============================] - 3s 6ms/step - loss: 0.2783\n",
      "Epoch 235/250\n",
      "448/448 [==============================] - 3s 7ms/step - loss: 0.2679\n",
      "Epoch 236/250\n",
      "448/448 [==============================] - 3s 6ms/step - loss: 0.2668\n",
      "Epoch 237/250\n",
      "448/448 [==============================] - 3s 6ms/step - loss: 0.2586\n",
      "Epoch 238/250\n",
      "448/448 [==============================] - 3s 6ms/step - loss: 0.2660\n",
      "Epoch 239/250\n",
      "448/448 [==============================] - 3s 6ms/step - loss: 0.2605\n",
      "Epoch 240/250\n",
      "448/448 [==============================] - 3s 6ms/step - loss: 0.2651\n",
      "Epoch 241/250\n",
      "448/448 [==============================] - 3s 6ms/step - loss: 0.2686\n",
      "Epoch 242/250\n",
      "448/448 [==============================] - 3s 6ms/step - loss: 0.2800\n",
      "Epoch 243/250\n",
      "448/448 [==============================] - 3s 6ms/step - loss: 0.2741\n",
      "Epoch 244/250\n",
      "448/448 [==============================] - 3s 6ms/step - loss: 0.2710\n",
      "Epoch 245/250\n",
      "448/448 [==============================] - 3s 6ms/step - loss: 0.2628\n",
      "Epoch 246/250\n",
      "448/448 [==============================] - 3s 7ms/step - loss: 0.2677\n",
      "Epoch 247/250\n",
      "448/448 [==============================] - 3s 6ms/step - loss: 0.2804\n",
      "Epoch 248/250\n",
      "448/448 [==============================] - 3s 6ms/step - loss: 0.2722\n",
      "Epoch 249/250\n",
      "448/448 [==============================] - 3s 6ms/step - loss: 0.2729\n",
      "Epoch 250/250\n",
      "448/448 [==============================] - 3s 6ms/step - loss: 0.2630\n"
     ]
    }
   ],
   "source": [
    "out1= model.fit(X_train,y_train,epochs=250, batch_size=32)"
   ]
  },
  {
   "cell_type": "code",
   "execution_count": 19,
   "metadata": {
    "execution": {
     "iopub.execute_input": "2021-10-04T09:50:12.174125Z",
     "iopub.status.busy": "2021-10-04T09:50:12.173792Z",
     "iopub.status.idle": "2021-10-04T09:50:12.178077Z",
     "shell.execute_reply": "2021-10-04T09:50:12.177353Z",
     "shell.execute_reply.started": "2021-10-04T09:50:12.174082Z"
    }
   },
   "outputs": [],
   "source": [
    "#plt.plot(out1.history['loss'])"
   ]
  },
  {
   "cell_type": "code",
   "execution_count": 20,
   "metadata": {
    "execution": {
     "iopub.execute_input": "2021-10-04T09:50:12.180039Z",
     "iopub.status.busy": "2021-10-04T09:50:12.179483Z",
     "iopub.status.idle": "2021-10-04T09:50:12.190173Z",
     "shell.execute_reply": "2021-10-04T09:50:12.189491Z",
     "shell.execute_reply.started": "2021-10-04T09:50:12.180001Z"
    }
   },
   "outputs": [],
   "source": [
    "#model.save('cnnmodel')"
   ]
  },
  {
   "cell_type": "code",
   "execution_count": 21,
   "metadata": {
    "execution": {
     "iopub.execute_input": "2021-10-04T09:50:12.191767Z",
     "iopub.status.busy": "2021-10-04T09:50:12.191430Z",
     "iopub.status.idle": "2021-10-04T09:50:12.199188Z",
     "shell.execute_reply": "2021-10-04T09:50:12.198214Z",
     "shell.execute_reply.started": "2021-10-04T09:50:12.191732Z"
    }
   },
   "outputs": [],
   "source": [
    "#model = keras.models.load_model('cnnmodel')\n"
   ]
  },
  {
   "cell_type": "code",
   "execution_count": 22,
   "metadata": {
    "execution": {
     "iopub.execute_input": "2021-10-04T09:50:12.200930Z",
     "iopub.status.busy": "2021-10-04T09:50:12.200349Z",
     "iopub.status.idle": "2021-10-04T09:50:12.214702Z",
     "shell.execute_reply": "2021-10-04T09:50:12.213877Z",
     "shell.execute_reply.started": "2021-10-04T09:50:12.200813Z"
    }
   },
   "outputs": [
    {
     "name": "stdout",
     "output_type": "stream",
     "text": [
      "Model: \"sequential\"\n",
      "_________________________________________________________________\n",
      "Layer (type)                 Output Shape              Param #   \n",
      "=================================================================\n",
      "conv2d (Conv2D)              (None, 32, 32, 64)        1088      \n",
      "_________________________________________________________________\n",
      "dropout (Dropout)            (None, 32, 32, 64)        0         \n",
      "_________________________________________________________________\n",
      "conv2d_1 (Conv2D)            (None, 32, 32, 256)       65792     \n",
      "_________________________________________________________________\n",
      "dropout_1 (Dropout)          (None, 32, 32, 256)       0         \n",
      "_________________________________________________________________\n",
      "max_pooling2d (MaxPooling2D) (None, 16, 16, 256)       0         \n",
      "_________________________________________________________________\n",
      "flatten (Flatten)            (None, 65536)             0         \n",
      "_________________________________________________________________\n",
      "dense (Dense)                (None, 1)                 65537     \n",
      "=================================================================\n",
      "Total params: 132,417\n",
      "Trainable params: 132,417\n",
      "Non-trainable params: 0\n",
      "_________________________________________________________________\n"
     ]
    }
   ],
   "source": [
    "model.summary()"
   ]
  },
  {
   "cell_type": "code",
   "execution_count": 23,
   "metadata": {
    "execution": {
     "iopub.execute_input": "2021-10-04T09:50:12.216303Z",
     "iopub.status.busy": "2021-10-04T09:50:12.215912Z",
     "iopub.status.idle": "2021-10-04T09:50:12.223914Z",
     "shell.execute_reply": "2021-10-04T09:50:12.222975Z",
     "shell.execute_reply.started": "2021-10-04T09:50:12.216262Z"
    }
   },
   "outputs": [
    {
     "data": {
      "text/plain": [
       "\"import shutil\\nshutil.make_archive('cnnmodel1', 'zip', './cnnmodel')\""
      ]
     },
     "execution_count": 23,
     "metadata": {},
     "output_type": "execute_result"
    }
   ],
   "source": [
    "'''import shutil\n",
    "shutil.make_archive('cnnmodel1', 'zip', './cnnmodel')'''"
   ]
  },
  {
   "cell_type": "code",
   "execution_count": 24,
   "metadata": {
    "execution": {
     "iopub.execute_input": "2021-10-04T09:50:12.226073Z",
     "iopub.status.busy": "2021-10-04T09:50:12.225707Z",
     "iopub.status.idle": "2021-10-04T09:50:12.230445Z",
     "shell.execute_reply": "2021-10-04T09:50:12.229485Z",
     "shell.execute_reply.started": "2021-10-04T09:50:12.225980Z"
    }
   },
   "outputs": [],
   "source": [
    "from zipfile import ZipFile"
   ]
  },
  {
   "cell_type": "code",
   "execution_count": 25,
   "metadata": {
    "execution": {
     "iopub.execute_input": "2021-10-04T09:50:12.232510Z",
     "iopub.status.busy": "2021-10-04T09:50:12.232226Z",
     "iopub.status.idle": "2021-10-04T09:50:12.571195Z",
     "shell.execute_reply": "2021-10-04T09:50:12.570496Z",
     "shell.execute_reply.started": "2021-10-04T09:50:12.232475Z"
    }
   },
   "outputs": [
    {
     "name": "stderr",
     "output_type": "stream",
     "text": [
      "/opt/conda/lib/python3.7/site-packages/tensorflow/python/keras/engine/sequential.py:450: UserWarning: `model.predict_classes()` is deprecated and will be removed after 2021-01-01. Please use instead:* `np.argmax(model.predict(x), axis=-1)`,   if your model does multi-class classification   (e.g. if it uses a `softmax` last-layer activation).* `(model.predict(x) > 0.5).astype(\"int32\")`,   if your model does binary classification   (e.g. if it uses a `sigmoid` last-layer activation).\n",
      "  warnings.warn('`model.predict_classes()` is deprecated and '\n"
     ]
    }
   ],
   "source": [
    "pred=model.predict_classes(X_test)"
   ]
  },
  {
   "cell_type": "code",
   "execution_count": 26,
   "metadata": {
    "execution": {
     "iopub.execute_input": "2021-10-04T09:50:12.572632Z",
     "iopub.status.busy": "2021-10-04T09:50:12.572379Z",
     "iopub.status.idle": "2021-10-04T09:50:12.590781Z",
     "shell.execute_reply": "2021-10-04T09:50:12.590099Z",
     "shell.execute_reply.started": "2021-10-04T09:50:12.572599Z"
    }
   },
   "outputs": [],
   "source": [
    "y_pred=[]\n",
    "for x in pred:\n",
    "    if x[0]==1:\n",
    "        y_pred.append(1)\n",
    "    else:\n",
    "        y_pred.append(0)"
   ]
  },
  {
   "cell_type": "code",
   "execution_count": 27,
   "metadata": {
    "execution": {
     "iopub.execute_input": "2021-10-04T09:50:12.592612Z",
     "iopub.status.busy": "2021-10-04T09:50:12.591849Z",
     "iopub.status.idle": "2021-10-04T09:50:12.600024Z",
     "shell.execute_reply": "2021-10-04T09:50:12.599165Z",
     "shell.execute_reply.started": "2021-10-04T09:50:12.592574Z"
    }
   },
   "outputs": [
    {
     "data": {
      "text/plain": [
       "array([0, 0, 0, ..., 1, 1, 1])"
      ]
     },
     "execution_count": 27,
     "metadata": {},
     "output_type": "execute_result"
    }
   ],
   "source": [
    "y_test"
   ]
  },
  {
   "cell_type": "code",
   "execution_count": 28,
   "metadata": {
    "execution": {
     "iopub.execute_input": "2021-10-04T09:50:12.601771Z",
     "iopub.status.busy": "2021-10-04T09:50:12.601392Z",
     "iopub.status.idle": "2021-10-04T09:50:12.612562Z",
     "shell.execute_reply": "2021-10-04T09:50:12.611522Z",
     "shell.execute_reply.started": "2021-10-04T09:50:12.601737Z"
    }
   },
   "outputs": [
    {
     "data": {
      "text/plain": [
       "0.8049665178571429"
      ]
     },
     "execution_count": 28,
     "metadata": {},
     "output_type": "execute_result"
    }
   ],
   "source": [
    "from sklearn.metrics import accuracy_score\n",
    "accuracy_score(y_test, y_pred)"
   ]
  },
  {
   "cell_type": "code",
   "execution_count": null,
   "metadata": {},
   "outputs": [],
   "source": []
  },
  {
   "cell_type": "code",
   "execution_count": 31,
   "metadata": {
    "execution": {
     "iopub.execute_input": "2021-10-04T09:51:21.128937Z",
     "iopub.status.busy": "2021-10-04T09:51:21.128565Z",
     "iopub.status.idle": "2021-10-04T09:51:21.138412Z",
     "shell.execute_reply": "2021-10-04T09:51:21.137657Z",
     "shell.execute_reply.started": "2021-10-04T09:51:21.128899Z"
    }
   },
   "outputs": [
    {
     "name": "stdout",
     "output_type": "stream",
     "text": [
      "conv2d 0\n",
      "dropout 1\n",
      "conv2d_1 2\n",
      "dropout_1 3\n",
      "max_pooling2d 4\n",
      "flatten 5\n",
      "dense 6\n"
     ]
    }
   ],
   "source": [
    "for x in range(len(model.layers)):\n",
    "    print(model.layers[x].name,x)"
   ]
  },
  {
   "cell_type": "code",
   "execution_count": 32,
   "metadata": {
    "execution": {
     "iopub.execute_input": "2021-10-04T09:51:21.164415Z",
     "iopub.status.busy": "2021-10-04T09:51:21.164217Z",
     "iopub.status.idle": "2021-10-04T09:51:21.172504Z",
     "shell.execute_reply": "2021-10-04T09:51:21.171751Z",
     "shell.execute_reply.started": "2021-10-04T09:51:21.164387Z"
    }
   },
   "outputs": [],
   "source": [
    "\n",
    "model2=keras.Model(inputs=model.input,outputs=model.layers[5].output)"
   ]
  },
  {
   "cell_type": "code",
   "execution_count": 33,
   "metadata": {
    "execution": {
     "iopub.execute_input": "2021-10-04T09:51:21.229616Z",
     "iopub.status.busy": "2021-10-04T09:51:21.229430Z",
     "iopub.status.idle": "2021-10-04T09:51:21.273655Z",
     "shell.execute_reply": "2021-10-04T09:51:21.273053Z",
     "shell.execute_reply.started": "2021-10-04T09:51:21.229594Z"
    }
   },
   "outputs": [],
   "source": [
    "#final code that works\n",
    "from tensorflow.keras import regularizers\n",
    "\n",
    "encoding_dim = 128\n",
    "\n",
    "input_img = model2.layers[6].output\n",
    "# Add a Dense layer with a L1 activity regularizer\n",
    "encoded = layers.Dense(encoding_dim, activation='relu',\n",
    "                activity_regularizer=SparseRegularizer(rho=0.001, beta=0.01))(input_img)\n",
    "decoded = layers.Dense(512, activation='relu')(encoded)\n",
    "classify=layers.Dense(1,activation='sigmoid')(decoded)\n",
    "\n",
    "autoencoder = keras.Model(model.input, classify)"
   ]
  },
  {
   "cell_type": "code",
   "execution_count": 34,
   "metadata": {
    "execution": {
     "iopub.execute_input": "2021-10-04T09:51:21.277193Z",
     "iopub.status.busy": "2021-10-04T09:51:21.276706Z",
     "iopub.status.idle": "2021-10-04T09:51:21.285505Z",
     "shell.execute_reply": "2021-10-04T09:51:21.283145Z",
     "shell.execute_reply.started": "2021-10-04T09:51:21.277167Z"
    }
   },
   "outputs": [],
   "source": [
    "def kl_divergence(p, p_hat):\n",
    "    return (p * K.log(p / p_hat)) + ((1-p) * K.log((1-p) / (1-p_hat)))\n",
    "\n",
    "class SparseActivityRegularizer(keras.regularizers.Regularizer):\n",
    "    sparsityBeta = None\n",
    "\n",
    "    def __init__(self, l1=0., l2=0., p=0.001, sparsityBeta=0.1):\n",
    "        self.p = p\n",
    "        self.sparsityBeta = sparsityBeta\n",
    "\n",
    "   \n",
    "    def __call__(self, loss):\n",
    "        #p_hat needs to be the average activation of the units in the hidden layer.      \n",
    "        p_hat = K.sum(K.mean(self.layer.get_output(True) , axis=0))\n",
    "\n",
    "        loss += self.sparsityBeta * kl_divergence(self.p, p_hat)\n",
    "        return loss\n",
    "\n",
    "    def get_config(self):\n",
    "        return {\"name\": self.__class__.__name__,\n",
    "            \"p\": self.l1}"
   ]
  },
  {
   "cell_type": "code",
   "execution_count": 35,
   "metadata": {
    "execution": {
     "iopub.execute_input": "2021-10-04T09:51:21.326628Z",
     "iopub.status.busy": "2021-10-04T09:51:21.326445Z",
     "iopub.status.idle": "2021-10-04T09:51:21.333257Z",
     "shell.execute_reply": "2021-10-04T09:51:21.332605Z",
     "shell.execute_reply.started": "2021-10-04T09:51:21.326607Z"
    }
   },
   "outputs": [],
   "source": [
    "class SparseRegularizer(keras.regularizers.Regularizer):\n",
    "    \n",
    "    def __init__(self, rho = 0.01,beta = 1):\n",
    "        \"\"\"\n",
    "        rho  : Desired average activation of the hidden units\n",
    "        beta : Weight of sparsity penalty term\n",
    "        \"\"\"\n",
    "        self.rho = rho\n",
    "        self.beta = beta\n",
    "        \n",
    "\n",
    "    def __call__(self, activation):\n",
    "        rho = self.rho\n",
    "        beta = self.beta\n",
    "        # sigmoid because we need the probability distributions\n",
    "        activation = tf.nn.sigmoid(activation)\n",
    "        # average over the batch samples\n",
    "        rho_bar = K.mean(activation, axis=0)\n",
    "        # Avoid division by 0\n",
    "        rho_bar = K.maximum(rho_bar,1e-10) \n",
    "        KLs = rho*K.log(rho/rho_bar) + (1-rho)*K.log((1-rho)/(1-rho_bar))\n",
    "        return beta * K.sum(KLs) # sum over the layer units\n",
    "\n",
    "    def get_config(self):\n",
    "        return {\n",
    "            'rho': self.rho,\n",
    "            'beta': self.beta\n",
    "        }"
   ]
  },
  {
   "cell_type": "code",
   "execution_count": 36,
   "metadata": {
    "execution": {
     "iopub.execute_input": "2021-10-04T09:51:21.353529Z",
     "iopub.status.busy": "2021-10-04T09:51:21.353090Z",
     "iopub.status.idle": "2021-10-04T09:51:21.359270Z",
     "shell.execute_reply": "2021-10-04T09:51:21.358575Z",
     "shell.execute_reply.started": "2021-10-04T09:51:21.353503Z"
    }
   },
   "outputs": [
    {
     "data": {
      "text/plain": [
       "'for m in model.layers:\\n    m.trainable=False'"
      ]
     },
     "execution_count": 36,
     "metadata": {},
     "output_type": "execute_result"
    }
   ],
   "source": [
    "'''for m in model.layers:\n",
    "    m.trainable=False'''"
   ]
  },
  {
   "cell_type": "code",
   "execution_count": 37,
   "metadata": {
    "execution": {
     "iopub.execute_input": "2021-10-04T09:51:21.385563Z",
     "iopub.status.busy": "2021-10-04T09:51:21.385111Z",
     "iopub.status.idle": "2021-10-04T09:51:21.398191Z",
     "shell.execute_reply": "2021-10-04T09:51:21.397331Z",
     "shell.execute_reply.started": "2021-10-04T09:51:21.385536Z"
    }
   },
   "outputs": [],
   "source": [
    "opt = keras.optimizers.Adam(learning_rate=0.001)\n",
    "autoencoder.compile(loss='binary_crossentropy', optimizer=opt)"
   ]
  },
  {
   "cell_type": "code",
   "execution_count": 38,
   "metadata": {
    "execution": {
     "iopub.execute_input": "2021-10-04T09:51:21.401297Z",
     "iopub.status.busy": "2021-10-04T09:51:21.401116Z",
     "iopub.status.idle": "2021-10-04T09:51:21.412009Z",
     "shell.execute_reply": "2021-10-04T09:51:21.410890Z",
     "shell.execute_reply.started": "2021-10-04T09:51:21.401276Z"
    }
   },
   "outputs": [
    {
     "name": "stdout",
     "output_type": "stream",
     "text": [
      "Model: \"model_1\"\n",
      "_________________________________________________________________\n",
      "Layer (type)                 Output Shape              Param #   \n",
      "=================================================================\n",
      "conv2d_input (InputLayer)    [(None, 32, 32, 4)]       0         \n",
      "_________________________________________________________________\n",
      "conv2d (Conv2D)              (None, 32, 32, 64)        1088      \n",
      "_________________________________________________________________\n",
      "dropout (Dropout)            (None, 32, 32, 64)        0         \n",
      "_________________________________________________________________\n",
      "conv2d_1 (Conv2D)            (None, 32, 32, 256)       65792     \n",
      "_________________________________________________________________\n",
      "dropout_1 (Dropout)          (None, 32, 32, 256)       0         \n",
      "_________________________________________________________________\n",
      "max_pooling2d (MaxPooling2D) (None, 16, 16, 256)       0         \n",
      "_________________________________________________________________\n",
      "flatten (Flatten)            (None, 65536)             0         \n",
      "_________________________________________________________________\n",
      "dense_1 (Dense)              (None, 128)               8388736   \n",
      "_________________________________________________________________\n",
      "dense_2 (Dense)              (None, 512)               66048     \n",
      "_________________________________________________________________\n",
      "dense_3 (Dense)              (None, 1)                 513       \n",
      "=================================================================\n",
      "Total params: 8,522,177\n",
      "Trainable params: 8,522,177\n",
      "Non-trainable params: 0\n",
      "_________________________________________________________________\n"
     ]
    }
   ],
   "source": [
    "autoencoder.summary()"
   ]
  },
  {
   "cell_type": "code",
   "execution_count": 39,
   "metadata": {
    "execution": {
     "iopub.execute_input": "2021-10-04T09:51:21.413596Z",
     "iopub.status.busy": "2021-10-04T09:51:21.413298Z",
     "iopub.status.idle": "2021-10-04T09:56:00.554642Z",
     "shell.execute_reply": "2021-10-04T09:56:00.553867Z",
     "shell.execute_reply.started": "2021-10-04T09:51:21.413564Z"
    }
   },
   "outputs": [
    {
     "name": "stdout",
     "output_type": "stream",
     "text": [
      "Epoch 1/100\n",
      "224/224 [==============================] - 3s 12ms/step - loss: 0.6255\n",
      "Epoch 2/100\n",
      "224/224 [==============================] - 3s 12ms/step - loss: 0.4649\n",
      "Epoch 3/100\n",
      "224/224 [==============================] - 3s 13ms/step - loss: 0.4115\n",
      "Epoch 4/100\n",
      "224/224 [==============================] - 3s 12ms/step - loss: 0.3726\n",
      "Epoch 5/100\n",
      "224/224 [==============================] - 3s 13ms/step - loss: 0.3600\n",
      "Epoch 6/100\n",
      "224/224 [==============================] - 3s 12ms/step - loss: 0.3358\n",
      "Epoch 7/100\n",
      "224/224 [==============================] - 3s 13ms/step - loss: 0.3171\n",
      "Epoch 8/100\n",
      "224/224 [==============================] - 3s 12ms/step - loss: 0.3137\n",
      "Epoch 9/100\n",
      "224/224 [==============================] - 3s 12ms/step - loss: 0.3065\n",
      "Epoch 10/100\n",
      "224/224 [==============================] - 3s 12ms/step - loss: 0.3012\n",
      "Epoch 11/100\n",
      "224/224 [==============================] - 3s 13ms/step - loss: 0.2901\n",
      "Epoch 12/100\n",
      "224/224 [==============================] - 3s 12ms/step - loss: 0.2758\n",
      "Epoch 13/100\n",
      "224/224 [==============================] - 3s 12ms/step - loss: 0.2705\n",
      "Epoch 14/100\n",
      "224/224 [==============================] - 3s 12ms/step - loss: 0.2602\n",
      "Epoch 15/100\n",
      "224/224 [==============================] - 3s 12ms/step - loss: 0.2691\n",
      "Epoch 16/100\n",
      "224/224 [==============================] - 3s 12ms/step - loss: 0.2569\n",
      "Epoch 17/100\n",
      "224/224 [==============================] - 3s 13ms/step - loss: 0.2527\n",
      "Epoch 18/100\n",
      "224/224 [==============================] - 3s 12ms/step - loss: 0.2418\n",
      "Epoch 19/100\n",
      "224/224 [==============================] - 3s 12ms/step - loss: 0.2373\n",
      "Epoch 20/100\n",
      "224/224 [==============================] - 3s 12ms/step - loss: 0.2290\n",
      "Epoch 21/100\n",
      "224/224 [==============================] - 3s 12ms/step - loss: 0.2313\n",
      "Epoch 22/100\n",
      "224/224 [==============================] - 3s 12ms/step - loss: 0.2263\n",
      "Epoch 23/100\n",
      "224/224 [==============================] - 3s 12ms/step - loss: 0.2236\n",
      "Epoch 24/100\n",
      "224/224 [==============================] - 3s 12ms/step - loss: 0.2172\n",
      "Epoch 25/100\n",
      "224/224 [==============================] - 3s 12ms/step - loss: 0.2161\n",
      "Epoch 26/100\n",
      "224/224 [==============================] - 3s 12ms/step - loss: 0.2063\n",
      "Epoch 27/100\n",
      "224/224 [==============================] - 3s 13ms/step - loss: 0.2155\n",
      "Epoch 28/100\n",
      "224/224 [==============================] - 3s 13ms/step - loss: 0.2024\n",
      "Epoch 29/100\n",
      "224/224 [==============================] - 3s 12ms/step - loss: 0.2096\n",
      "Epoch 30/100\n",
      "224/224 [==============================] - 3s 13ms/step - loss: 0.1958\n",
      "Epoch 31/100\n",
      "224/224 [==============================] - 3s 12ms/step - loss: 0.1936\n",
      "Epoch 32/100\n",
      "224/224 [==============================] - 3s 12ms/step - loss: 0.1935\n",
      "Epoch 33/100\n",
      "224/224 [==============================] - 3s 12ms/step - loss: 0.1815\n",
      "Epoch 34/100\n",
      "224/224 [==============================] - 3s 13ms/step - loss: 0.1868\n",
      "Epoch 35/100\n",
      "224/224 [==============================] - 3s 12ms/step - loss: 0.1876\n",
      "Epoch 36/100\n",
      "224/224 [==============================] - 3s 12ms/step - loss: 0.1850\n",
      "Epoch 37/100\n",
      "224/224 [==============================] - 3s 12ms/step - loss: 0.1734\n",
      "Epoch 38/100\n",
      "224/224 [==============================] - 3s 12ms/step - loss: 0.1680\n",
      "Epoch 39/100\n",
      "224/224 [==============================] - 3s 12ms/step - loss: 0.1792\n",
      "Epoch 40/100\n",
      "224/224 [==============================] - 3s 12ms/step - loss: 0.1695\n",
      "Epoch 41/100\n",
      "224/224 [==============================] - 3s 13ms/step - loss: 0.1645\n",
      "Epoch 42/100\n",
      "224/224 [==============================] - 3s 13ms/step - loss: 0.1651\n",
      "Epoch 43/100\n",
      "224/224 [==============================] - 3s 12ms/step - loss: 0.1693\n",
      "Epoch 44/100\n",
      "224/224 [==============================] - 3s 12ms/step - loss: 0.1647\n",
      "Epoch 45/100\n",
      "224/224 [==============================] - 3s 12ms/step - loss: 0.1652\n",
      "Epoch 46/100\n",
      "224/224 [==============================] - 3s 13ms/step - loss: 0.1557\n",
      "Epoch 47/100\n",
      "224/224 [==============================] - 3s 12ms/step - loss: 0.1534\n",
      "Epoch 48/100\n",
      "224/224 [==============================] - 3s 12ms/step - loss: 0.1568\n",
      "Epoch 49/100\n",
      "224/224 [==============================] - 3s 12ms/step - loss: 0.1604\n",
      "Epoch 50/100\n",
      "224/224 [==============================] - 3s 12ms/step - loss: 0.1560\n",
      "Epoch 51/100\n",
      "224/224 [==============================] - 3s 12ms/step - loss: 0.1496\n",
      "Epoch 52/100\n",
      "224/224 [==============================] - 3s 12ms/step - loss: 0.1463\n",
      "Epoch 53/100\n",
      "224/224 [==============================] - 3s 12ms/step - loss: 0.1556\n",
      "Epoch 54/100\n",
      "224/224 [==============================] - 3s 13ms/step - loss: 0.1478\n",
      "Epoch 55/100\n",
      "224/224 [==============================] - 3s 13ms/step - loss: 0.1529\n",
      "Epoch 56/100\n",
      "224/224 [==============================] - 3s 12ms/step - loss: 0.1459\n",
      "Epoch 57/100\n",
      "224/224 [==============================] - 3s 12ms/step - loss: 0.1437\n",
      "Epoch 58/100\n",
      "224/224 [==============================] - 3s 13ms/step - loss: 0.1375\n",
      "Epoch 59/100\n",
      "224/224 [==============================] - 3s 12ms/step - loss: 0.1457\n",
      "Epoch 60/100\n",
      "224/224 [==============================] - 3s 12ms/step - loss: 0.1421\n",
      "Epoch 61/100\n",
      "224/224 [==============================] - 3s 12ms/step - loss: 0.1363\n",
      "Epoch 62/100\n",
      "224/224 [==============================] - 3s 13ms/step - loss: 0.1333\n",
      "Epoch 63/100\n",
      "224/224 [==============================] - 3s 12ms/step - loss: 0.1440\n",
      "Epoch 64/100\n",
      "224/224 [==============================] - 3s 12ms/step - loss: 0.1366\n",
      "Epoch 65/100\n",
      "224/224 [==============================] - 3s 12ms/step - loss: 0.1404\n",
      "Epoch 66/100\n",
      "224/224 [==============================] - 3s 13ms/step - loss: 0.1411\n",
      "Epoch 67/100\n",
      "224/224 [==============================] - 3s 13ms/step - loss: 0.1274\n",
      "Epoch 68/100\n",
      "224/224 [==============================] - 3s 12ms/step - loss: 0.1278\n",
      "Epoch 69/100\n",
      "224/224 [==============================] - 3s 12ms/step - loss: 0.1359\n",
      "Epoch 70/100\n",
      "224/224 [==============================] - 3s 13ms/step - loss: 0.1292\n",
      "Epoch 71/100\n",
      "224/224 [==============================] - 3s 12ms/step - loss: 0.1222\n",
      "Epoch 72/100\n",
      "224/224 [==============================] - 3s 12ms/step - loss: 0.1296\n",
      "Epoch 73/100\n",
      "224/224 [==============================] - 3s 12ms/step - loss: 0.1247\n",
      "Epoch 74/100\n",
      "224/224 [==============================] - 3s 13ms/step - loss: 0.1278\n",
      "Epoch 75/100\n",
      "224/224 [==============================] - 3s 12ms/step - loss: 0.1219\n",
      "Epoch 76/100\n",
      "224/224 [==============================] - 3s 12ms/step - loss: 0.1239\n",
      "Epoch 77/100\n",
      "224/224 [==============================] - 3s 12ms/step - loss: 0.1225\n",
      "Epoch 78/100\n",
      "224/224 [==============================] - 3s 13ms/step - loss: 0.1226\n",
      "Epoch 79/100\n",
      "224/224 [==============================] - 3s 12ms/step - loss: 0.1157\n",
      "Epoch 80/100\n",
      "224/224 [==============================] - 3s 12ms/step - loss: 0.1219\n",
      "Epoch 81/100\n",
      "224/224 [==============================] - 3s 12ms/step - loss: 0.1175\n",
      "Epoch 82/100\n",
      "224/224 [==============================] - 3s 13ms/step - loss: 0.1120\n",
      "Epoch 83/100\n",
      "224/224 [==============================] - 3s 12ms/step - loss: 0.1191\n",
      "Epoch 84/100\n",
      "224/224 [==============================] - 3s 12ms/step - loss: 0.1203\n",
      "Epoch 85/100\n",
      "224/224 [==============================] - 3s 12ms/step - loss: 0.1150\n",
      "Epoch 86/100\n",
      "224/224 [==============================] - 3s 13ms/step - loss: 0.1179\n",
      "Epoch 87/100\n",
      "224/224 [==============================] - 3s 12ms/step - loss: 0.1115\n",
      "Epoch 88/100\n",
      "224/224 [==============================] - 3s 12ms/step - loss: 0.1184\n",
      "Epoch 89/100\n",
      "224/224 [==============================] - 3s 12ms/step - loss: 0.1123\n",
      "Epoch 90/100\n",
      "224/224 [==============================] - 3s 14ms/step - loss: 0.1156\n",
      "Epoch 91/100\n",
      "224/224 [==============================] - 3s 12ms/step - loss: 0.1203\n",
      "Epoch 92/100\n",
      "224/224 [==============================] - 3s 12ms/step - loss: 0.1133\n",
      "Epoch 93/100\n",
      "224/224 [==============================] - 3s 12ms/step - loss: 0.1150\n",
      "Epoch 94/100\n",
      "224/224 [==============================] - 3s 13ms/step - loss: 0.1155\n",
      "Epoch 95/100\n",
      "224/224 [==============================] - 3s 12ms/step - loss: 0.1136\n",
      "Epoch 96/100\n",
      "224/224 [==============================] - 3s 12ms/step - loss: 0.1041\n",
      "Epoch 97/100\n",
      "224/224 [==============================] - 3s 12ms/step - loss: 0.1127\n",
      "Epoch 98/100\n",
      "224/224 [==============================] - 3s 12ms/step - loss: 0.1060\n",
      "Epoch 99/100\n",
      "224/224 [==============================] - 3s 12ms/step - loss: 0.1034\n",
      "Epoch 100/100\n",
      "224/224 [==============================] - 3s 12ms/step - loss: 0.1036\n"
     ]
    }
   ],
   "source": [
    "training2=autoencoder.fit(X_train,y_train,batch_size=64,epochs=100)"
   ]
  },
  {
   "cell_type": "code",
   "execution_count": 40,
   "metadata": {
    "execution": {
     "iopub.execute_input": "2021-10-04T09:56:00.556824Z",
     "iopub.status.busy": "2021-10-04T09:56:00.556554Z",
     "iopub.status.idle": "2021-10-04T09:56:00.877003Z",
     "shell.execute_reply": "2021-10-04T09:56:00.876221Z",
     "shell.execute_reply.started": "2021-10-04T09:56:00.556770Z"
    }
   },
   "outputs": [],
   "source": [
    "pred=autoencoder.predict(X_test)"
   ]
  },
  {
   "cell_type": "code",
   "execution_count": 41,
   "metadata": {
    "execution": {
     "iopub.execute_input": "2021-10-04T09:56:00.878713Z",
     "iopub.status.busy": "2021-10-04T09:56:00.878465Z",
     "iopub.status.idle": "2021-10-04T09:56:01.159055Z",
     "shell.execute_reply": "2021-10-04T09:56:01.158382Z",
     "shell.execute_reply.started": "2021-10-04T09:56:00.878678Z"
    }
   },
   "outputs": [
    {
     "data": {
      "text/plain": [
       "0.8429129464285714"
      ]
     },
     "execution_count": 41,
     "metadata": {},
     "output_type": "execute_result"
    }
   ],
   "source": [
    "pred=autoencoder.predict(X_test)\n",
    "y_pred=[]\n",
    "for x in pred:\n",
    "    if x>0.5:\n",
    "        y_pred.append(1)\n",
    "    else:\n",
    "        y_pred.append(0)\n",
    "from sklearn.metrics import accuracy_score\n",
    "accuracy_score(y_test, y_pred)"
   ]
  },
  {
   "cell_type": "code",
   "execution_count": 42,
   "metadata": {
    "execution": {
     "iopub.execute_input": "2021-10-04T09:56:01.161325Z",
     "iopub.status.busy": "2021-10-04T09:56:01.161077Z",
     "iopub.status.idle": "2021-10-04T09:56:01.172202Z",
     "shell.execute_reply": "2021-10-04T09:56:01.171461Z",
     "shell.execute_reply.started": "2021-10-04T09:56:01.161292Z"
    }
   },
   "outputs": [
    {
     "data": {
      "text/plain": [
       "0.8429129464285714"
      ]
     },
     "execution_count": 42,
     "metadata": {},
     "output_type": "execute_result"
    }
   ],
   "source": [
    "from sklearn.metrics import accuracy_score\n",
    "accuracy_score(y_test, y_pred)"
   ]
  },
  {
   "cell_type": "code",
   "execution_count": 43,
   "metadata": {
    "execution": {
     "iopub.execute_input": "2021-10-04T09:56:01.173872Z",
     "iopub.status.busy": "2021-10-04T09:56:01.173268Z",
     "iopub.status.idle": "2021-10-04T09:56:01.178308Z",
     "shell.execute_reply": "2021-10-04T09:56:01.177495Z",
     "shell.execute_reply.started": "2021-10-04T09:56:01.173839Z"
    }
   },
   "outputs": [],
   "source": [
    "final_in= autoencoder.layers[8].output\n"
   ]
  },
  {
   "cell_type": "code",
   "execution_count": 44,
   "metadata": {
    "execution": {
     "iopub.execute_input": "2021-10-04T09:56:01.180052Z",
     "iopub.status.busy": "2021-10-04T09:56:01.179722Z",
     "iopub.status.idle": "2021-10-04T09:56:01.208478Z",
     "shell.execute_reply": "2021-10-04T09:56:01.207909Z",
     "shell.execute_reply.started": "2021-10-04T09:56:01.180021Z"
    }
   },
   "outputs": [],
   "source": [
    "dense_1=layers.Dense(512, activation='relu')(final_in)\n",
    "dense_2=layers.Dense(256, activation='relu')(dense_1)\n",
    "output=layers.Dense(1, activation='sigmoid')(dense_2)\n",
    "\n",
    "DNN = keras.Model(model.input, output)"
   ]
  },
  {
   "cell_type": "code",
   "execution_count": 45,
   "metadata": {
    "execution": {
     "iopub.execute_input": "2021-10-04T09:56:01.209575Z",
     "iopub.status.busy": "2021-10-04T09:56:01.209360Z",
     "iopub.status.idle": "2021-10-04T09:56:01.220610Z",
     "shell.execute_reply": "2021-10-04T09:56:01.217483Z",
     "shell.execute_reply.started": "2021-10-04T09:56:01.209545Z"
    }
   },
   "outputs": [
    {
     "name": "stdout",
     "output_type": "stream",
     "text": [
      "Model: \"model_2\"\n",
      "_________________________________________________________________\n",
      "Layer (type)                 Output Shape              Param #   \n",
      "=================================================================\n",
      "conv2d_input (InputLayer)    [(None, 32, 32, 4)]       0         \n",
      "_________________________________________________________________\n",
      "conv2d (Conv2D)              (None, 32, 32, 64)        1088      \n",
      "_________________________________________________________________\n",
      "dropout (Dropout)            (None, 32, 32, 64)        0         \n",
      "_________________________________________________________________\n",
      "conv2d_1 (Conv2D)            (None, 32, 32, 256)       65792     \n",
      "_________________________________________________________________\n",
      "dropout_1 (Dropout)          (None, 32, 32, 256)       0         \n",
      "_________________________________________________________________\n",
      "max_pooling2d (MaxPooling2D) (None, 16, 16, 256)       0         \n",
      "_________________________________________________________________\n",
      "flatten (Flatten)            (None, 65536)             0         \n",
      "_________________________________________________________________\n",
      "dense_1 (Dense)              (None, 128)               8388736   \n",
      "_________________________________________________________________\n",
      "dense_2 (Dense)              (None, 512)               66048     \n",
      "_________________________________________________________________\n",
      "dense_4 (Dense)              (None, 512)               262656    \n",
      "_________________________________________________________________\n",
      "dense_5 (Dense)              (None, 256)               131328    \n",
      "_________________________________________________________________\n",
      "dense_6 (Dense)              (None, 1)                 257       \n",
      "=================================================================\n",
      "Total params: 8,915,905\n",
      "Trainable params: 8,915,905\n",
      "Non-trainable params: 0\n",
      "_________________________________________________________________\n"
     ]
    }
   ],
   "source": [
    "DNN.summary()"
   ]
  },
  {
   "cell_type": "code",
   "execution_count": 46,
   "metadata": {
    "execution": {
     "iopub.execute_input": "2021-10-04T09:56:01.221838Z",
     "iopub.status.busy": "2021-10-04T09:56:01.221584Z",
     "iopub.status.idle": "2021-10-04T09:56:01.227590Z",
     "shell.execute_reply": "2021-10-04T09:56:01.226732Z",
     "shell.execute_reply.started": "2021-10-04T09:56:01.221793Z"
    }
   },
   "outputs": [
    {
     "data": {
      "text/plain": [
       "'for m in model.layers:\\n    m.trainable=False\\nfor x in autoencoder.layers:\\n    x.trainable=False'"
      ]
     },
     "execution_count": 46,
     "metadata": {},
     "output_type": "execute_result"
    }
   ],
   "source": [
    "'''for m in model.layers:\n",
    "    m.trainable=False\n",
    "for x in autoencoder.layers:\n",
    "    x.trainable=False'''\n"
   ]
  },
  {
   "cell_type": "code",
   "execution_count": 47,
   "metadata": {
    "execution": {
     "iopub.execute_input": "2021-10-04T09:56:01.229416Z",
     "iopub.status.busy": "2021-10-04T09:56:01.229161Z",
     "iopub.status.idle": "2021-10-04T09:56:01.241568Z",
     "shell.execute_reply": "2021-10-04T09:56:01.240937Z",
     "shell.execute_reply.started": "2021-10-04T09:56:01.229385Z"
    }
   },
   "outputs": [],
   "source": [
    "opt = keras.optimizers.Adam(learning_rate=0.001)\n",
    "DNN.compile(loss='binary_crossentropy', optimizer=opt)"
   ]
  },
  {
   "cell_type": "code",
   "execution_count": 48,
   "metadata": {
    "execution": {
     "iopub.execute_input": "2021-10-04T09:56:01.244197Z",
     "iopub.status.busy": "2021-10-04T09:56:01.243938Z",
     "iopub.status.idle": "2021-10-04T10:04:05.597240Z",
     "shell.execute_reply": "2021-10-04T10:04:05.596415Z",
     "shell.execute_reply.started": "2021-10-04T09:56:01.244166Z"
    }
   },
   "outputs": [
    {
     "name": "stdout",
     "output_type": "stream",
     "text": [
      "Epoch 1/200\n",
      "56/56 [==============================] - 3s 44ms/step - loss: 0.1574\n",
      "Epoch 2/200\n",
      "56/56 [==============================] - 2s 43ms/step - loss: 0.0858\n",
      "Epoch 3/200\n",
      "56/56 [==============================] - 2s 43ms/step - loss: 0.0874\n",
      "Epoch 4/200\n",
      "56/56 [==============================] - 2s 43ms/step - loss: 0.0882\n",
      "Epoch 5/200\n",
      "56/56 [==============================] - 2s 43ms/step - loss: 0.0856\n",
      "Epoch 6/200\n",
      "56/56 [==============================] - 2s 43ms/step - loss: 0.0777\n",
      "Epoch 7/200\n",
      "56/56 [==============================] - 2s 43ms/step - loss: 0.0717\n",
      "Epoch 8/200\n",
      "56/56 [==============================] - 2s 43ms/step - loss: 0.0767\n",
      "Epoch 9/200\n",
      "56/56 [==============================] - 2s 43ms/step - loss: 0.0744\n",
      "Epoch 10/200\n",
      "56/56 [==============================] - 2s 43ms/step - loss: 0.0763\n",
      "Epoch 11/200\n",
      "56/56 [==============================] - 2s 43ms/step - loss: 0.0769\n",
      "Epoch 12/200\n",
      "56/56 [==============================] - 2s 43ms/step - loss: 0.0745\n",
      "Epoch 13/200\n",
      "56/56 [==============================] - 2s 43ms/step - loss: 0.0802\n",
      "Epoch 14/200\n",
      "56/56 [==============================] - 2s 44ms/step - loss: 0.0785\n",
      "Epoch 15/200\n",
      "56/56 [==============================] - 2s 43ms/step - loss: 0.0753\n",
      "Epoch 16/200\n",
      "56/56 [==============================] - 2s 43ms/step - loss: 0.0731\n",
      "Epoch 17/200\n",
      "56/56 [==============================] - 2s 43ms/step - loss: 0.0730\n",
      "Epoch 18/200\n",
      "56/56 [==============================] - 2s 43ms/step - loss: 0.0698\n",
      "Epoch 19/200\n",
      "56/56 [==============================] - 2s 43ms/step - loss: 0.0664\n",
      "Epoch 20/200\n",
      "56/56 [==============================] - 2s 43ms/step - loss: 0.0731\n",
      "Epoch 21/200\n",
      "56/56 [==============================] - 2s 43ms/step - loss: 0.0713\n",
      "Epoch 22/200\n",
      "56/56 [==============================] - 2s 43ms/step - loss: 0.0721\n",
      "Epoch 23/200\n",
      "56/56 [==============================] - 2s 43ms/step - loss: 0.0779\n",
      "Epoch 24/200\n",
      "56/56 [==============================] - 2s 43ms/step - loss: 0.0707\n",
      "Epoch 25/200\n",
      "56/56 [==============================] - 2s 43ms/step - loss: 0.0705\n",
      "Epoch 26/200\n",
      "56/56 [==============================] - 2s 43ms/step - loss: 0.0700\n",
      "Epoch 27/200\n",
      "56/56 [==============================] - 2s 44ms/step - loss: 0.0693\n",
      "Epoch 28/200\n",
      "56/56 [==============================] - 2s 43ms/step - loss: 0.0739\n",
      "Epoch 29/200\n",
      "56/56 [==============================] - 2s 43ms/step - loss: 0.0710\n",
      "Epoch 30/200\n",
      "56/56 [==============================] - 2s 43ms/step - loss: 0.0702\n",
      "Epoch 31/200\n",
      "56/56 [==============================] - 2s 43ms/step - loss: 0.0677\n",
      "Epoch 32/200\n",
      "56/56 [==============================] - 2s 43ms/step - loss: 0.0739\n",
      "Epoch 33/200\n",
      "56/56 [==============================] - 2s 43ms/step - loss: 0.0682\n",
      "Epoch 34/200\n",
      "56/56 [==============================] - 2s 43ms/step - loss: 0.0656\n",
      "Epoch 35/200\n",
      "56/56 [==============================] - 2s 43ms/step - loss: 0.0688\n",
      "Epoch 36/200\n",
      "56/56 [==============================] - 2s 43ms/step - loss: 0.0691\n",
      "Epoch 37/200\n",
      "56/56 [==============================] - 2s 43ms/step - loss: 0.0722\n",
      "Epoch 38/200\n",
      "56/56 [==============================] - 2s 43ms/step - loss: 0.0624\n",
      "Epoch 39/200\n",
      "56/56 [==============================] - 2s 43ms/step - loss: 0.0655\n",
      "Epoch 40/200\n",
      "56/56 [==============================] - 2s 44ms/step - loss: 0.0634\n",
      "Epoch 41/200\n",
      "56/56 [==============================] - 2s 43ms/step - loss: 0.0639\n",
      "Epoch 42/200\n",
      "56/56 [==============================] - 2s 44ms/step - loss: 0.0648\n",
      "Epoch 43/200\n",
      "56/56 [==============================] - 2s 43ms/step - loss: 0.0602\n",
      "Epoch 44/200\n",
      "56/56 [==============================] - 2s 43ms/step - loss: 0.0698\n",
      "Epoch 45/200\n",
      "56/56 [==============================] - 2s 43ms/step - loss: 0.0708\n",
      "Epoch 46/200\n",
      "56/56 [==============================] - 2s 43ms/step - loss: 0.0618\n",
      "Epoch 47/200\n",
      "56/56 [==============================] - 2s 43ms/step - loss: 0.0596\n",
      "Epoch 48/200\n",
      "56/56 [==============================] - 2s 43ms/step - loss: 0.0676\n",
      "Epoch 49/200\n",
      "56/56 [==============================] - 2s 43ms/step - loss: 0.0635\n",
      "Epoch 50/200\n",
      "56/56 [==============================] - 2s 43ms/step - loss: 0.0621\n",
      "Epoch 51/200\n",
      "56/56 [==============================] - 2s 44ms/step - loss: 0.0639\n",
      "Epoch 52/200\n",
      "56/56 [==============================] - 2s 43ms/step - loss: 0.0637\n",
      "Epoch 53/200\n",
      "56/56 [==============================] - 2s 43ms/step - loss: 0.0639\n",
      "Epoch 54/200\n",
      "56/56 [==============================] - 2s 44ms/step - loss: 0.0702\n",
      "Epoch 55/200\n",
      "56/56 [==============================] - 2s 43ms/step - loss: 0.0624\n",
      "Epoch 56/200\n",
      "56/56 [==============================] - 2s 43ms/step - loss: 0.0669\n",
      "Epoch 57/200\n",
      "56/56 [==============================] - 2s 43ms/step - loss: 0.0590\n",
      "Epoch 58/200\n",
      "56/56 [==============================] - 2s 43ms/step - loss: 0.0612\n",
      "Epoch 59/200\n",
      "56/56 [==============================] - 2s 43ms/step - loss: 0.0603\n",
      "Epoch 60/200\n",
      "56/56 [==============================] - 2s 44ms/step - loss: 0.0594\n",
      "Epoch 61/200\n",
      "56/56 [==============================] - 2s 43ms/step - loss: 0.0607\n",
      "Epoch 62/200\n",
      "56/56 [==============================] - 2s 43ms/step - loss: 0.0588\n",
      "Epoch 63/200\n",
      "56/56 [==============================] - 2s 43ms/step - loss: 0.0648\n",
      "Epoch 64/200\n",
      "56/56 [==============================] - 2s 43ms/step - loss: 0.0594\n",
      "Epoch 65/200\n",
      "56/56 [==============================] - 2s 44ms/step - loss: 0.0578\n",
      "Epoch 66/200\n",
      "56/56 [==============================] - 2s 43ms/step - loss: 0.0632\n",
      "Epoch 67/200\n",
      "56/56 [==============================] - 2s 44ms/step - loss: 0.0601\n",
      "Epoch 68/200\n",
      "56/56 [==============================] - 2s 43ms/step - loss: 0.0580\n",
      "Epoch 69/200\n",
      "56/56 [==============================] - 2s 43ms/step - loss: 0.0550\n",
      "Epoch 70/200\n",
      "56/56 [==============================] - 2s 43ms/step - loss: 0.0647\n",
      "Epoch 71/200\n",
      "56/56 [==============================] - 2s 43ms/step - loss: 0.0606\n",
      "Epoch 72/200\n",
      "56/56 [==============================] - 2s 43ms/step - loss: 0.0556\n",
      "Epoch 73/200\n",
      "56/56 [==============================] - 2s 43ms/step - loss: 0.0571\n",
      "Epoch 74/200\n",
      "56/56 [==============================] - 2s 43ms/step - loss: 0.0642\n",
      "Epoch 75/200\n",
      "56/56 [==============================] - 2s 43ms/step - loss: 0.0565\n",
      "Epoch 76/200\n",
      "56/56 [==============================] - 2s 43ms/step - loss: 0.0564\n",
      "Epoch 77/200\n",
      "56/56 [==============================] - 2s 43ms/step - loss: 0.0609\n",
      "Epoch 78/200\n",
      "56/56 [==============================] - 2s 43ms/step - loss: 0.0576\n",
      "Epoch 79/200\n",
      "56/56 [==============================] - 2s 43ms/step - loss: 0.0585\n",
      "Epoch 80/200\n",
      "56/56 [==============================] - 2s 43ms/step - loss: 0.0543\n",
      "Epoch 81/200\n",
      "56/56 [==============================] - 2s 43ms/step - loss: 0.0540\n",
      "Epoch 82/200\n",
      "56/56 [==============================] - 2s 43ms/step - loss: 0.0592\n",
      "Epoch 83/200\n",
      "56/56 [==============================] - 2s 43ms/step - loss: 0.0610\n",
      "Epoch 84/200\n",
      "56/56 [==============================] - 2s 43ms/step - loss: 0.0547\n",
      "Epoch 85/200\n",
      "56/56 [==============================] - 2s 43ms/step - loss: 0.0564\n",
      "Epoch 86/200\n",
      "56/56 [==============================] - 2s 43ms/step - loss: 0.0588\n",
      "Epoch 87/200\n",
      "56/56 [==============================] - 2s 43ms/step - loss: 0.0623\n",
      "Epoch 88/200\n",
      "56/56 [==============================] - 2s 43ms/step - loss: 0.0567\n",
      "Epoch 89/200\n",
      "56/56 [==============================] - 2s 43ms/step - loss: 0.0614\n",
      "Epoch 90/200\n",
      "56/56 [==============================] - 2s 43ms/step - loss: 0.0558\n",
      "Epoch 91/200\n",
      "56/56 [==============================] - 2s 43ms/step - loss: 0.0533\n",
      "Epoch 92/200\n",
      "56/56 [==============================] - 2s 43ms/step - loss: 0.0549\n",
      "Epoch 93/200\n",
      "56/56 [==============================] - 2s 43ms/step - loss: 0.0547\n",
      "Epoch 94/200\n",
      "56/56 [==============================] - 2s 44ms/step - loss: 0.0545\n",
      "Epoch 95/200\n",
      "56/56 [==============================] - 2s 43ms/step - loss: 0.0533\n",
      "Epoch 96/200\n",
      "56/56 [==============================] - 2s 43ms/step - loss: 0.0544\n",
      "Epoch 97/200\n",
      "56/56 [==============================] - 2s 43ms/step - loss: 0.0577\n",
      "Epoch 98/200\n",
      "56/56 [==============================] - 2s 43ms/step - loss: 0.0589\n",
      "Epoch 99/200\n",
      "56/56 [==============================] - 2s 43ms/step - loss: 0.0539\n",
      "Epoch 100/200\n",
      "56/56 [==============================] - 2s 43ms/step - loss: 0.0490\n",
      "Epoch 101/200\n",
      "56/56 [==============================] - 2s 44ms/step - loss: 0.0514\n",
      "Epoch 102/200\n",
      "56/56 [==============================] - 2s 43ms/step - loss: 0.0555\n",
      "Epoch 103/200\n",
      "56/56 [==============================] - 2s 43ms/step - loss: 0.0501\n",
      "Epoch 104/200\n",
      "56/56 [==============================] - 2s 43ms/step - loss: 0.0590\n",
      "Epoch 105/200\n",
      "56/56 [==============================] - 2s 43ms/step - loss: 0.0581\n",
      "Epoch 106/200\n",
      "56/56 [==============================] - 2s 43ms/step - loss: 0.0521\n",
      "Epoch 107/200\n",
      "56/56 [==============================] - 2s 44ms/step - loss: 0.0528\n",
      "Epoch 108/200\n",
      "56/56 [==============================] - 2s 43ms/step - loss: 0.0509\n",
      "Epoch 109/200\n",
      "56/56 [==============================] - 2s 43ms/step - loss: 0.0561\n",
      "Epoch 110/200\n",
      "56/56 [==============================] - 2s 43ms/step - loss: 0.0504\n",
      "Epoch 111/200\n",
      "56/56 [==============================] - 2s 43ms/step - loss: 0.0593\n",
      "Epoch 112/200\n",
      "56/56 [==============================] - 2s 43ms/step - loss: 0.0502\n",
      "Epoch 113/200\n",
      "56/56 [==============================] - 2s 43ms/step - loss: 0.0504\n",
      "Epoch 114/200\n",
      "56/56 [==============================] - 2s 43ms/step - loss: 0.0564\n",
      "Epoch 115/200\n",
      "56/56 [==============================] - 2s 44ms/step - loss: 0.0538\n",
      "Epoch 116/200\n",
      "56/56 [==============================] - 2s 43ms/step - loss: 0.0551\n",
      "Epoch 117/200\n",
      "56/56 [==============================] - 2s 43ms/step - loss: 0.0498\n",
      "Epoch 118/200\n",
      "56/56 [==============================] - 2s 43ms/step - loss: 0.0522\n",
      "Epoch 119/200\n",
      "56/56 [==============================] - 2s 44ms/step - loss: 0.0544\n",
      "Epoch 120/200\n",
      "56/56 [==============================] - 2s 44ms/step - loss: 0.0543\n",
      "Epoch 121/200\n",
      "56/56 [==============================] - 2s 43ms/step - loss: 0.0495\n",
      "Epoch 122/200\n",
      "56/56 [==============================] - 2s 43ms/step - loss: 0.0530\n",
      "Epoch 123/200\n",
      "56/56 [==============================] - 2s 43ms/step - loss: 0.0475\n",
      "Epoch 124/200\n",
      "56/56 [==============================] - 2s 43ms/step - loss: 0.0482\n",
      "Epoch 125/200\n",
      "56/56 [==============================] - 2s 43ms/step - loss: 0.0508\n",
      "Epoch 126/200\n",
      "56/56 [==============================] - 2s 43ms/step - loss: 0.0522\n",
      "Epoch 127/200\n",
      "56/56 [==============================] - 2s 43ms/step - loss: 0.0485\n",
      "Epoch 128/200\n",
      "56/56 [==============================] - 2s 43ms/step - loss: 0.0537\n",
      "Epoch 129/200\n",
      "56/56 [==============================] - 2s 43ms/step - loss: 0.0538\n",
      "Epoch 130/200\n",
      "56/56 [==============================] - 2s 43ms/step - loss: 0.0488\n",
      "Epoch 131/200\n",
      "56/56 [==============================] - 2s 43ms/step - loss: 0.0524\n",
      "Epoch 132/200\n",
      "56/56 [==============================] - 2s 43ms/step - loss: 0.0535\n",
      "Epoch 133/200\n",
      "56/56 [==============================] - 2s 43ms/step - loss: 0.0490\n",
      "Epoch 134/200\n",
      "56/56 [==============================] - 2s 44ms/step - loss: 0.0490\n",
      "Epoch 135/200\n",
      "56/56 [==============================] - 2s 43ms/step - loss: 0.0497\n",
      "Epoch 136/200\n",
      "56/56 [==============================] - 2s 43ms/step - loss: 0.0505\n",
      "Epoch 137/200\n",
      "56/56 [==============================] - 2s 43ms/step - loss: 0.0545\n",
      "Epoch 138/200\n",
      "56/56 [==============================] - 2s 43ms/step - loss: 0.0496\n",
      "Epoch 139/200\n",
      "56/56 [==============================] - 2s 43ms/step - loss: 0.0506\n",
      "Epoch 140/200\n",
      "56/56 [==============================] - 2s 43ms/step - loss: 0.0494\n",
      "Epoch 141/200\n",
      "56/56 [==============================] - 2s 43ms/step - loss: 0.0506\n",
      "Epoch 142/200\n",
      "56/56 [==============================] - 2s 43ms/step - loss: 0.0437\n",
      "Epoch 143/200\n",
      "56/56 [==============================] - 2s 43ms/step - loss: 0.0487\n",
      "Epoch 144/200\n",
      "56/56 [==============================] - 2s 43ms/step - loss: 0.0495\n",
      "Epoch 145/200\n",
      "56/56 [==============================] - 2s 43ms/step - loss: 0.0447\n",
      "Epoch 146/200\n",
      "56/56 [==============================] - 2s 43ms/step - loss: 0.0527\n",
      "Epoch 147/200\n",
      "56/56 [==============================] - 2s 44ms/step - loss: 0.0488\n",
      "Epoch 148/200\n",
      "56/56 [==============================] - 2s 43ms/step - loss: 0.0489\n",
      "Epoch 149/200\n",
      "56/56 [==============================] - 2s 43ms/step - loss: 0.0490\n",
      "Epoch 150/200\n",
      "56/56 [==============================] - 2s 43ms/step - loss: 0.0471\n",
      "Epoch 151/200\n",
      "56/56 [==============================] - 2s 43ms/step - loss: 0.0464\n",
      "Epoch 152/200\n",
      "56/56 [==============================] - 2s 43ms/step - loss: 0.0493\n",
      "Epoch 153/200\n",
      "56/56 [==============================] - 2s 43ms/step - loss: 0.0453\n",
      "Epoch 154/200\n",
      "56/56 [==============================] - 2s 43ms/step - loss: 0.0469\n",
      "Epoch 155/200\n",
      "56/56 [==============================] - 2s 43ms/step - loss: 0.0451\n",
      "Epoch 156/200\n",
      "56/56 [==============================] - 2s 44ms/step - loss: 0.0440\n",
      "Epoch 157/200\n",
      "56/56 [==============================] - 2s 43ms/step - loss: 0.0475\n",
      "Epoch 158/200\n",
      "56/56 [==============================] - 2s 43ms/step - loss: 0.0431\n",
      "Epoch 159/200\n",
      "56/56 [==============================] - 2s 43ms/step - loss: 0.0507\n",
      "Epoch 160/200\n",
      "56/56 [==============================] - 2s 44ms/step - loss: 0.0452\n",
      "Epoch 161/200\n",
      "56/56 [==============================] - 2s 44ms/step - loss: 0.0473\n",
      "Epoch 162/200\n",
      "56/56 [==============================] - 2s 43ms/step - loss: 0.0456\n",
      "Epoch 163/200\n",
      "56/56 [==============================] - 2s 43ms/step - loss: 0.0498\n",
      "Epoch 164/200\n",
      "56/56 [==============================] - 2s 43ms/step - loss: 0.0459\n",
      "Epoch 165/200\n",
      "56/56 [==============================] - 2s 43ms/step - loss: 0.0436\n",
      "Epoch 166/200\n",
      "56/56 [==============================] - 2s 43ms/step - loss: 0.0432\n",
      "Epoch 167/200\n",
      "56/56 [==============================] - 2s 43ms/step - loss: 0.0451\n",
      "Epoch 168/200\n",
      "56/56 [==============================] - 2s 43ms/step - loss: 0.0460\n",
      "Epoch 169/200\n",
      "56/56 [==============================] - 2s 43ms/step - loss: 0.0424\n",
      "Epoch 170/200\n",
      "56/56 [==============================] - 2s 43ms/step - loss: 0.0437\n",
      "Epoch 171/200\n",
      "56/56 [==============================] - 2s 43ms/step - loss: 0.0444\n",
      "Epoch 172/200\n",
      "56/56 [==============================] - 2s 43ms/step - loss: 0.0408\n",
      "Epoch 173/200\n",
      "56/56 [==============================] - 2s 43ms/step - loss: 0.0441\n",
      "Epoch 174/200\n",
      "56/56 [==============================] - 3s 45ms/step - loss: 0.0449\n",
      "Epoch 175/200\n",
      "56/56 [==============================] - 2s 43ms/step - loss: 0.0415\n",
      "Epoch 176/200\n",
      "56/56 [==============================] - 2s 43ms/step - loss: 0.0464\n",
      "Epoch 177/200\n",
      "56/56 [==============================] - 2s 43ms/step - loss: 0.0403\n",
      "Epoch 178/200\n",
      "56/56 [==============================] - 2s 43ms/step - loss: 0.0420\n",
      "Epoch 179/200\n",
      "56/56 [==============================] - 2s 43ms/step - loss: 0.0462\n",
      "Epoch 180/200\n",
      "56/56 [==============================] - 2s 43ms/step - loss: 0.0441\n",
      "Epoch 181/200\n",
      "56/56 [==============================] - 2s 43ms/step - loss: 0.0477\n",
      "Epoch 182/200\n",
      "56/56 [==============================] - 2s 43ms/step - loss: 0.0483\n",
      "Epoch 183/200\n",
      "56/56 [==============================] - 2s 43ms/step - loss: 0.0422\n",
      "Epoch 184/200\n",
      "56/56 [==============================] - 2s 43ms/step - loss: 0.0438\n",
      "Epoch 185/200\n",
      "56/56 [==============================] - 2s 43ms/step - loss: 0.0444\n",
      "Epoch 186/200\n",
      "56/56 [==============================] - 2s 43ms/step - loss: 0.0430\n",
      "Epoch 187/200\n",
      "56/56 [==============================] - 2s 44ms/step - loss: 0.0490\n",
      "Epoch 188/200\n",
      "56/56 [==============================] - 2s 44ms/step - loss: 0.0428\n",
      "Epoch 189/200\n",
      "56/56 [==============================] - 2s 43ms/step - loss: 0.0476\n",
      "Epoch 190/200\n",
      "56/56 [==============================] - 2s 43ms/step - loss: 0.0468\n",
      "Epoch 191/200\n",
      "56/56 [==============================] - 2s 43ms/step - loss: 0.0413\n",
      "Epoch 192/200\n",
      "56/56 [==============================] - 2s 43ms/step - loss: 0.0488\n",
      "Epoch 193/200\n",
      "56/56 [==============================] - 2s 43ms/step - loss: 0.0419\n",
      "Epoch 194/200\n",
      "56/56 [==============================] - 2s 43ms/step - loss: 0.0384\n",
      "Epoch 195/200\n",
      "56/56 [==============================] - 2s 43ms/step - loss: 0.0467\n",
      "Epoch 196/200\n",
      "56/56 [==============================] - 2s 43ms/step - loss: 0.0436\n",
      "Epoch 197/200\n",
      "56/56 [==============================] - 2s 44ms/step - loss: 0.0404\n",
      "Epoch 198/200\n",
      "56/56 [==============================] - 2s 43ms/step - loss: 0.0418\n",
      "Epoch 199/200\n",
      "56/56 [==============================] - 2s 43ms/step - loss: 0.0419\n",
      "Epoch 200/200\n",
      "56/56 [==============================] - 2s 43ms/step - loss: 0.0457\n"
     ]
    }
   ],
   "source": [
    "training3=DNN.fit(X_train,y_train,batch_size=256,epochs=200)"
   ]
  },
  {
   "cell_type": "code",
   "execution_count": 49,
   "metadata": {
    "execution": {
     "iopub.execute_input": "2021-10-04T10:04:05.598703Z",
     "iopub.status.busy": "2021-10-04T10:04:05.598424Z",
     "iopub.status.idle": "2021-10-04T10:04:06.025322Z",
     "shell.execute_reply": "2021-10-04T10:04:06.024668Z",
     "shell.execute_reply.started": "2021-10-04T10:04:05.598637Z"
    }
   },
   "outputs": [
    {
     "data": {
      "text/plain": [
       "0.8610491071428571"
      ]
     },
     "execution_count": 49,
     "metadata": {},
     "output_type": "execute_result"
    }
   ],
   "source": [
    "pred_final=DNN.predict(X_test)\n",
    "y_pred_final=[]\n",
    "for x in pred_final:\n",
    "    if x>0.5:\n",
    "        y_pred_final.append(1)\n",
    "    else:\n",
    "        y_pred_final.append(0)\n",
    "from sklearn.metrics import accuracy_score\n",
    "accuracy_score(y_test, y_pred_final)"
   ]
  },
  {
   "cell_type": "code",
   "execution_count": null,
   "metadata": {},
   "outputs": [],
   "source": []
  }
 ],
 "metadata": {
  "kernelspec": {
   "display_name": "Python 3",
   "language": "python",
   "name": "python3"
  },
  "language_info": {
   "codemirror_mode": {
    "name": "ipython",
    "version": 3
   },
   "file_extension": ".py",
   "mimetype": "text/x-python",
   "name": "python",
   "nbconvert_exporter": "python",
   "pygments_lexer": "ipython3",
   "version": "3.7.6"
  }
 },
 "nbformat": 4,
 "nbformat_minor": 4
}
